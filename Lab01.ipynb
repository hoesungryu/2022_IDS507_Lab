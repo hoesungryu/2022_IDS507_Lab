{
  "nbformat": 4,
  "nbformat_minor": 0,
  "metadata": {
    "colab": {
      "name": "Lab01_answer",
      "provenance": [],
      "collapsed_sections": [],
      "toc_visible": true
    },
    "kernelspec": {
      "name": "python3",
      "display_name": "Python 3"
    },
    "language_info": {
      "name": "python"
    }
  },
  "cells": [
    {
      "cell_type": "markdown",
      "source": [
        "# 💻IDS507 | Lab01\n",
        "<font size=5><b>Python introduction<b></font>\n",
        "<div align='right'>TA: 류 회 성(Hoe Sung Ryu)</div>\n",
        "\n",
        "## Concepts | 오늘 배울 개념\n",
        "---\n",
        "- 코랩 사용법을 익힌다. \n",
        "- 파이썬 기본 문법을 익힌다.\n",
        "  1. 변수\n",
        "  1. 문자열\n",
        "  1. 수치형\n",
        "  1. 논리형\n",
        "  1. 리스트, 딕셔너리\n",
        "  1. 조건문과 반복문\n",
        "  1. 함수\n",
        "- 여러가지 형태의 데이터를 불러올 수 있다.\n",
        "  1. txt\n",
        "  1. csv\n",
        "  1. json\n",
        "  1. xlsx\n",
        "\n"
      ],
      "metadata": {
        "id": "icDKIkEj3tmj"
      }
    },
    {
      "cell_type": "code",
      "execution_count": null,
      "metadata": {
        "id": "n2j7GfHG1KEM",
        "colab": {
          "base_uri": "https://localhost:8080/"
        },
        "outputId": "869f3b32-3c38-4a2c-c99c-7002e8b058c1"
      },
      "outputs": [
        {
          "output_type": "stream",
          "name": "stdout",
          "text": [
            "Hello World!\n"
          ]
        }
      ],
      "source": [
        "print('Hello World!')"
      ]
    },
    {
      "cell_type": "code",
      "source": [
        "!pip list | grep pandas"
      ],
      "metadata": {
        "colab": {
          "base_uri": "https://localhost:8080/"
        },
        "id": "RsgasNoeP6HU",
        "outputId": "2a8dbd33-c06e-4362-e2c8-b7ab2832e2b7"
      },
      "execution_count": 26,
      "outputs": [
        {
          "output_type": "stream",
          "name": "stdout",
          "text": [
            "pandas                        1.3.5\n",
            "pandas-datareader             0.9.0\n",
            "pandas-gbq                    0.13.3\n",
            "pandas-profiling              1.4.1\n",
            "sklearn-pandas                1.8.0\n"
          ]
        }
      ]
    },
    {
      "cell_type": "code",
      "source": [
        "!pip install pandas "
      ],
      "metadata": {
        "id": "HySa1rdzP6Jc"
      },
      "execution_count": null,
      "outputs": []
    },
    {
      "cell_type": "markdown",
      "source": [
        "## 📌1. 파이썬 기본문법"
      ],
      "metadata": {
        "id": "TC6T109cGrpg"
      }
    },
    {
      "cell_type": "markdown",
      "source": [
        "### 1) 변수 \n",
        "\n",
        "- 할당과 동시에 형태가 정해짐\n",
        "\n",
        "<img src='https://t1.daumcdn.net/cfile/tistory/221A3E3E58E49E303A'>"
      ],
      "metadata": {
        "id": "-WEkNUnJHzJd"
      }
    },
    {
      "cell_type": "code",
      "source": [
        "x = 10 \n",
        "print(x)\n",
        "print(type(x))"
      ],
      "metadata": {
        "colab": {
          "base_uri": "https://localhost:8080/"
        },
        "id": "GUj_HAhOGujv",
        "outputId": "4c669d48-ed3c-419d-8d8f-b1e385737f3d"
      },
      "execution_count": 19,
      "outputs": [
        {
          "output_type": "stream",
          "name": "stdout",
          "text": [
            "10\n",
            "<class 'int'>\n"
          ]
        }
      ]
    },
    {
      "cell_type": "code",
      "source": [
        "Variable = '1'"
      ],
      "metadata": {
        "id": "1m8M-sYXSxrP"
      },
      "execution_count": null,
      "outputs": []
    },
    {
      "cell_type": "code",
      "source": [
        "1_variable = '1'"
      ],
      "metadata": {
        "id": "gexJlU1GSxtb"
      },
      "execution_count": null,
      "outputs": []
    },
    {
      "cell_type": "code",
      "source": [
        "# `He's drinking coeffee`를 출력해보기\n"
      ],
      "metadata": {
        "id": "YzdaA0vsToxd"
      },
      "execution_count": null,
      "outputs": []
    },
    {
      "cell_type": "markdown",
      "source": [
        "### 2) 문자열 \n",
        "\n",
        "<img src='https://media.vlpt.us/images/joygoround/post/f70317e0-ab63-4b2d-9b54-dab83fa2c759/image.png'>"
      ],
      "metadata": {
        "id": "iudoH5Z6IyAX"
      }
    },
    {
      "cell_type": "code",
      "source": [
        "x = '10'\n",
        "print(x)\n",
        "print(type(x))"
      ],
      "metadata": {
        "colab": {
          "base_uri": "https://localhost:8080/"
        },
        "id": "y1UnmHeRGumH",
        "outputId": "43db6cd7-8510-4fb5-bb78-513a85528b6e"
      },
      "execution_count": 18,
      "outputs": [
        {
          "output_type": "stream",
          "name": "stdout",
          "text": [
            "10\n",
            "<class 'str'>\n"
          ]
        }
      ]
    },
    {
      "cell_type": "code",
      "source": [
        "# f-string\n",
        "print(f'x 는 {x} 입니다')"
      ],
      "metadata": {
        "colab": {
          "base_uri": "https://localhost:8080/"
        },
        "id": "RbK8zDewI7PV",
        "outputId": "d1b6cf9b-d7a0-4ce7-9149-3fdcd2ce20fd"
      },
      "execution_count": 4,
      "outputs": [
        {
          "output_type": "stream",
          "name": "stdout",
          "text": [
            "x 는 10 입니다\n"
          ]
        }
      ]
    },
    {
      "cell_type": "code",
      "source": [
        "print('류회성 ')"
      ],
      "metadata": {
        "colab": {
          "base_uri": "https://localhost:8080/"
        },
        "id": "4MXkrjxFJn64",
        "outputId": "7f51d99c-adf1-4c51-cde2-1b51caf3cdfc"
      },
      "execution_count": 9,
      "outputs": [
        {
          "output_type": "stream",
          "name": "stdout",
          "text": [
            "류회성 \n"
          ]
        }
      ]
    },
    {
      "cell_type": "code",
      "source": [
        "print('류회성'.rstrip())"
      ],
      "metadata": {
        "colab": {
          "base_uri": "https://localhost:8080/"
        },
        "id": "MRQwQfUdJrg1",
        "outputId": "20481be8-7e33-4d40-a38b-25a4e10323c2"
      },
      "execution_count": 10,
      "outputs": [
        {
          "output_type": "stream",
          "name": "stdout",
          "text": [
            "류회성\n"
          ]
        }
      ]
    },
    {
      "cell_type": "markdown",
      "source": [
        "### 3) 수치형"
      ],
      "metadata": {
        "id": "9oQjt4I1I5hd"
      }
    },
    {
      "cell_type": "code",
      "source": [
        "print(10 + 10) \n",
        "print(10 * 10) \n",
        "print(10 / 10) \n",
        "print(10 ** 2) \n",
        "print(10 % 2) # 나머지 \n",
        "print(10 //2 ) # 몫 "
      ],
      "metadata": {
        "colab": {
          "base_uri": "https://localhost:8080/"
        },
        "id": "KROWFBpZGuoP",
        "outputId": "ba9d1764-9f60-45a6-f33c-4103a1f3398e"
      },
      "execution_count": 8,
      "outputs": [
        {
          "output_type": "stream",
          "name": "stdout",
          "text": [
            "20\n",
            "100\n",
            "1.0\n",
            "100\n",
            "0\n",
            "5\n"
          ]
        }
      ]
    },
    {
      "cell_type": "markdown",
      "source": [
        "### 4) 논리형 \n",
        "\n",
        "<img src='https://encrypted-tbn0.gstatic.com/images?q=tbn:ANd9GcTI8yvpT-gQ4kFuqP2j-OBJWbU31Kj1rHjPFA&usqp=CAU' width = 80%>"
      ],
      "metadata": {
        "id": "gYEFozx4IO51"
      }
    },
    {
      "cell_type": "code",
      "source": [
        "print(False and True)\n",
        "print(True and True)\n",
        "print(True and False)\n",
        "print(False and False) "
      ],
      "metadata": {
        "colab": {
          "base_uri": "https://localhost:8080/"
        },
        "id": "Gp44FflNKAos",
        "outputId": "f65b95a4-6d93-49bf-c7dc-2db19401910a"
      },
      "execution_count": 15,
      "outputs": [
        {
          "output_type": "stream",
          "name": "stdout",
          "text": [
            "False\n",
            "True\n",
            "False\n",
            "False\n"
          ]
        }
      ]
    },
    {
      "cell_type": "markdown",
      "source": [
        "### 5) 리스트 & 딕셔너리 \n",
        "\n",
        "#### 1) 리스트 \n",
        "<img src='https://cdn.programiz.com/sites/tutorial2program/files/python-list-index.png' width=70%>\n"
      ],
      "metadata": {
        "id": "ubKMfUpvLemE"
      }
    },
    {
      "cell_type": "code",
      "source": [
        "my_list = ['p','r','o','b','e']\n",
        "my_list\n",
        "\n",
        "my_list = list('probe')\n",
        "my_list\n",
        "\n"
      ],
      "metadata": {
        "colab": {
          "base_uri": "https://localhost:8080/"
        },
        "id": "HYUzKcKQKArJ",
        "outputId": "becace9c-c23a-4855-9fa3-8580da9c628c"
      },
      "execution_count": 28,
      "outputs": [
        {
          "output_type": "execute_result",
          "data": {
            "text/plain": [
              "['p', 'r', 'o', 'b', 'e']"
            ]
          },
          "metadata": {},
          "execution_count": 28
        }
      ]
    },
    {
      "cell_type": "markdown",
      "source": [
        "<img src='https://t1.daumcdn.net/cfile/tistory/99A6FD33599C471A20'>"
      ],
      "metadata": {
        "id": "hUljP4feUoOT"
      }
    },
    {
      "cell_type": "code",
      "source": [
        "print(len(my_list))"
      ],
      "metadata": {
        "colab": {
          "base_uri": "https://localhost:8080/"
        },
        "id": "2zuq7OH_Unmp",
        "outputId": "577b7693-461d-4003-aa1c-49fdca149234"
      },
      "execution_count": 29,
      "outputs": [
        {
          "output_type": "stream",
          "name": "stdout",
          "text": [
            "5\n"
          ]
        }
      ]
    },
    {
      "cell_type": "markdown",
      "source": [
        "### 2) 딕셔너리\n",
        "\n",
        "<img src='https://programmathically.com/wp-content/uploads/2021/05/dictionary-1024x554.png' width=70%>"
      ],
      "metadata": {
        "id": "iKgi7keUUu4O"
      }
    },
    {
      "cell_type": "code",
      "source": [
        "my_dict = {'a': 1, \"b\": 2}\n",
        "print(my_dict.keys())\n",
        "print(my_dict.values())\n",
        "print(my_dict['a'])"
      ],
      "metadata": {
        "id": "MX_mYleYU5mV"
      },
      "execution_count": null,
      "outputs": []
    },
    {
      "cell_type": "markdown",
      "source": [
        "### 6) 조건문과 반복문"
      ],
      "metadata": {
        "id": "VJv3huAPIU2x"
      }
    },
    {
      "cell_type": "markdown",
      "source": [
        "#### 1) 조건문"
      ],
      "metadata": {
        "id": "3Gyc_dGWGzaU"
      }
    },
    {
      "cell_type": "code",
      "source": [
        "my_value = float(input())\n",
        "if my_value >= 10:\n",
        "  print('10보다 크거나 같다')\n",
        "else:\n",
        "  print('10보다 작다')"
      ],
      "metadata": {
        "colab": {
          "base_uri": "https://localhost:8080/"
        },
        "id": "uDXn1bv9VKW9",
        "outputId": "019a5d92-cd19-44eb-d211-34e75e040ee8"
      },
      "execution_count": null,
      "outputs": [
        {
          "output_type": "stream",
          "name": "stdout",
          "text": [
            "10\n",
            "10보다 크거나 같다\n"
          ]
        }
      ]
    },
    {
      "cell_type": "code",
      "source": [
        "my_value = float(input())\n",
        "if my_value >= 10:\n",
        "  print('10보다 크거나 같다')\n",
        "elif 5<= my_value < 10:\n",
        "  print('5보다 크거나 10보다작다')\n",
        "else:\n",
        "  print('5보다 작다')"
      ],
      "metadata": {
        "colab": {
          "base_uri": "https://localhost:8080/"
        },
        "id": "nMZl2i6dXD6C",
        "outputId": "820e5772-0556-4f9c-ee29-6f6111329538"
      },
      "execution_count": null,
      "outputs": [
        {
          "output_type": "stream",
          "name": "stdout",
          "text": [
            "6\n",
            "5보다 크거나 10보다작다\n"
          ]
        }
      ]
    },
    {
      "cell_type": "markdown",
      "source": [
        "#### 2) 반복문"
      ],
      "metadata": {
        "id": "IwvgJOC-L6_p"
      }
    },
    {
      "cell_type": "code",
      "source": [
        "for i in [1,2,3,4,5]:\n",
        "  print(i)"
      ],
      "metadata": {
        "colab": {
          "base_uri": "https://localhost:8080/"
        },
        "id": "EzRAWftDL6YC",
        "outputId": "066a4366-1c7c-4d44-ad11-adb4b2b8991c"
      },
      "execution_count": 16,
      "outputs": [
        {
          "output_type": "stream",
          "name": "stdout",
          "text": [
            "1\n",
            "2\n",
            "3\n",
            "4\n",
            "5\n"
          ]
        }
      ]
    },
    {
      "cell_type": "code",
      "source": [
        ""
      ],
      "metadata": {
        "id": "cJAT47l1VEJM"
      },
      "execution_count": null,
      "outputs": []
    },
    {
      "cell_type": "markdown",
      "source": [
        "### 7) 함수"
      ],
      "metadata": {
        "id": "muFB4zU8MCMM"
      }
    },
    {
      "cell_type": "code",
      "source": [
        "# 몫 과 나머지 \n"
      ],
      "metadata": {
        "id": "6OApfag8MCSE"
      },
      "execution_count": null,
      "outputs": []
    },
    {
      "cell_type": "markdown",
      "source": [
        "## 📌2.드라이브 연동"
      ],
      "metadata": {
        "id": "zhac0QB4Gkdk"
      }
    },
    {
      "cell_type": "code",
      "source": [
        "from google.colab import drive # 드라이브 연동\n",
        "drive.mount('/content/gdrive')"
      ],
      "metadata": {
        "colab": {
          "base_uri": "https://localhost:8080/"
        },
        "id": "-9fOhZJw5J6W",
        "outputId": "1cefec61-5019-48d1-ee00-982752e88a00"
      },
      "execution_count": null,
      "outputs": [
        {
          "output_type": "stream",
          "name": "stdout",
          "text": [
            "Drive already mounted at /content/gdrive; to attempt to forcibly remount, call drive.mount(\"/content/gdrive\", force_remount=True).\n"
          ]
        }
      ]
    },
    {
      "cell_type": "code",
      "source": [
        "!pwd  "
      ],
      "metadata": {
        "colab": {
          "base_uri": "https://localhost:8080/"
        },
        "id": "Q6gOzLuy6qdC",
        "outputId": "b42f2820-7c51-4df6-ffa9-1cfc74c65f7e"
      },
      "execution_count": null,
      "outputs": [
        {
          "output_type": "stream",
          "name": "stdout",
          "text": [
            "/content/gdrive/My Drive/IDS507-00\n"
          ]
        }
      ]
    },
    {
      "cell_type": "code",
      "source": [
        "import os\n",
        "os.chdir('/content/gdrive/My Drive/IDS507-00/') # DataPath 설정 "
      ],
      "metadata": {
        "id": "0AAphHFf5WE7"
      },
      "execution_count": null,
      "outputs": []
    },
    {
      "cell_type": "code",
      "source": [
        "!pwd"
      ],
      "metadata": {
        "colab": {
          "base_uri": "https://localhost:8080/"
        },
        "id": "3uTjPVUX7F9n",
        "outputId": "e6fbcd1d-a693-442a-ac0d-a5c7c721da9f"
      },
      "execution_count": null,
      "outputs": [
        {
          "output_type": "stream",
          "name": "stdout",
          "text": [
            "/content/gdrive/My Drive/IDS507-00\n"
          ]
        }
      ]
    },
    {
      "cell_type": "markdown",
      "source": [
        "## 📌3. 여러가지 형태의 데이터\n"
      ],
      "metadata": {
        "id": "rL5C2wNsGmFE"
      }
    },
    {
      "cell_type": "code",
      "source": [
        "# 데이터 가져오기 \n"
      ],
      "metadata": {
        "id": "FAekiqm4WTI6"
      },
      "execution_count": null,
      "outputs": []
    },
    {
      "cell_type": "code",
      "source": [
        "# .Txt file 일기 \n",
        "\n",
        "txt_file_path = './2022_IDS507_Lab/data/CourseDescription.txt'\n",
        "\n",
        "with open(txt_file_path,'r', encoding='utf-8') as f:\n",
        "    lines = f.readlines()\n",
        "\n",
        "for line in lines:\n",
        "    print(line)"
      ],
      "metadata": {
        "colab": {
          "base_uri": "https://localhost:8080/"
        },
        "id": "cXCWGFQR_jY2",
        "outputId": "75139c29-19a6-49fe-953b-8912aaec3d3d"
      },
      "execution_count": null,
      "outputs": [
        {
          "output_type": "stream",
          "name": "stdout",
          "text": [
            "IDS507-00\n",
            "\n",
            "Course Description\n",
            "\n",
            "기본적인 데이터과학적 사고관 없이는 살아남기 어려운 세상, \n",
            "\n",
            "우리에게 필요한 ‘진짜’ 정보를 습득하고 ‘객관적인’ 의사결정을 위한 데이터과학이 모두에게 필요하다.\n",
            "\n",
            " 데이터 과학은 단순 통계지식과 프로그래밍의 접목인 일종의 <기술>이 아니라, \n",
            "\n",
            "세상을 살아가면서 만날 수많은 문제들을 합리적으로 헤쳐나갈 <수단>과 같은 필수요소이다. \n",
            "\n",
            "본 수업에서는 분야를 막론하고 범람하는 방대한 양의 데이터 처리, 분석, 시각화와 소통을 하기 위한 이론을 학습하고,\n",
            "\n",
            " 실제 데이터기반 예측모델을 구축하는 Python programming 실습을 진행하며, \n",
            "\n",
            "비판적인 데이터과학적 사고를 함양하기 위한 다양한 사례들을 탐구한다. \n",
            "\n",
            "2022년 초 현재 전체 온라인 수업으로 기획되어 있지만, 추후 온/오프라인 전환도 가능하다.\n"
          ]
        }
      ]
    },
    {
      "cell_type": "code",
      "source": [
        "# txt 저장 \n",
        "savename_txt = './2022_IDS507_Lab/data/sample_path.txt'\n",
        "with open(savename_txt, \"w\") as f:\n",
        "    f.write('샘플입니다.')"
      ],
      "metadata": {
        "id": "U2pST3kW7THA"
      },
      "execution_count": null,
      "outputs": []
    },
    {
      "cell_type": "code",
      "source": [
        "# txt 저장 \n",
        "# savename_txt = './2022_IDS507_Lab/data/sample_path.txt'\n",
        "with open(savename_txt, \"a\") as f:\n",
        "    f.write('\\n샘플입니다.22')"
      ],
      "metadata": {
        "id": "4q124ObDQc2J"
      },
      "execution_count": null,
      "outputs": []
    },
    {
      "cell_type": "code",
      "source": [
        "import this"
      ],
      "metadata": {
        "colab": {
          "base_uri": "https://localhost:8080/"
        },
        "id": "N7pinjbkQ3qx",
        "outputId": "39cc15e7-cc17-4d05-d50e-c80058d88fae"
      },
      "execution_count": null,
      "outputs": [
        {
          "output_type": "stream",
          "name": "stdout",
          "text": [
            "The Zen of Python, by Tim Peters\n",
            "\n",
            "Beautiful is better than ugly.\n",
            "Explicit is better than implicit.\n",
            "Simple is better than complex.\n",
            "Complex is better than complicated.\n",
            "Flat is better than nested.\n",
            "Sparse is better than dense.\n",
            "Readability counts.\n",
            "Special cases aren't special enough to break the rules.\n",
            "Although practicality beats purity.\n",
            "Errors should never pass silently.\n",
            "Unless explicitly silenced.\n",
            "In the face of ambiguity, refuse the temptation to guess.\n",
            "There should be one-- and preferably only one --obvious way to do it.\n",
            "Although that way may not be obvious at first unless you're Dutch.\n",
            "Now is better than never.\n",
            "Although never is often better than *right* now.\n",
            "If the implementation is hard to explain, it's a bad idea.\n",
            "If the implementation is easy to explain, it may be a good idea.\n",
            "Namespaces are one honking great idea -- let's do more of those!\n"
          ]
        }
      ]
    },
    {
      "cell_type": "code",
      "source": [
        "import csv\n",
        "\n",
        "filename = './2022_IDS507_Lab/data/sea_line.csv'\n",
        "with open(filename,'r', encoding='utf-8') as f:\n",
        "    reader = csv.reader(f)\n",
        "    for row in reader:\n",
        "        print(row)"
      ],
      "metadata": {
        "colab": {
          "base_uri": "https://localhost:8080/"
        },
        "id": "ttYvxb8gRRoo",
        "outputId": "579000c6-45ca-43e3-bfb0-9967ada0510b"
      },
      "execution_count": null,
      "outputs": [
        {
          "output_type": "stream",
          "name": "stdout",
          "text": [
            "['\\ufeff\"해역\"', '연안정점', '관측일시', '수온', '수온 QC Flag', '기온', '기온 QC', '운량', '천기']\n",
            "['동해', '기장(12201)', '20190605', '15.4', '2', '24.4', '2', '1%-10%', '']\n",
            "['동해', '기장(12201)', '20190606', '15.4', '2', '', '2', '', '']\n",
            "['동해', '기장(12201)', '20190607', '17.4', '2', '19.2', '2', '91%-100%', '비']\n",
            "['동해', '기장(12201)', '20190608', '17.5', '2', '', '2', '', '']\n",
            "['동해', '기장(12201)', '20190609', '17.6', '2', '', '2', '', '']\n",
            "['동해', '기장(12201)', '20190610', '18.1', '2', '20.9', '2', '41%-50%', '']\n",
            "['동해', '기장(12201)', '20190611', '19', '2', '19.8', '2', '41%-50%', '개임(운량:3-7)']\n",
            "['남해', '산양(20501)', '20190613', '21', '2', '', '2', '', '']\n",
            "['남해', '산양(20501)', '20190614', '20.5', '2', '', '2', '', '']\n",
            "['남해', '산양(20501)', '20190618', '20.7', '2', '', '2', '', '']\n",
            "['남해', '산양(20501)', '20190619', '20.8', '2', '', '2', '', '']\n",
            "['남해', '산양(20501)', '20190628', '21.5', '2', '', '2', '', '']\n",
            "['남해', '산양(20501)', '20190702', '22.4', '2', '', '2', '', '']\n",
            "['서해', '용유도(31302)', '20190605', '19.7', '2', '18.7', '2', '31%-40%', '흐림(운량:8-10)']\n",
            "['서해', '용유도(31302)', '20190607', '19', '2', '18.8', '2', '21%-30%', '쾌청(운량:0-2)']\n",
            "['서해', '용유도(31302)', '20190610', '18.3', '2', '19.5', '2', '81%-90%', '흐림(운량:8-10)']\n",
            "['서해', '용유도(31302)', '20190611', '18.5', '2', '19.7', '2', 'Zero', '쾌청(운량:0-2)']\n",
            "['서해', '용유도(31302)', '20190612', '18.8', '2', '20.3', '2', 'Zero', '쾌청(운량:0-2)']\n",
            "['서해', '용유도(31302)', '20190613', '19.4', '2', '19.8', '2', 'Zero', '쾌청(운량:0-2)']\n",
            "['서해', '용유도(31302)', '20190614', '19.5', '2', '20.1', '2', '31%-40%', '흐림(운량:8-10)']\n",
            "['서해', '용유도(31302)', '20190617', '21.6', '2', '20.1', '2', '1%-10%', '쾌청(운량:0-2)']\n",
            "['서해', '용유도(31302)', '20190618', '19.9', '2', '20.7', '2', '91%-100%', '흐림(운량:8-10)']\n",
            "['서해', '용유도(31302)', '20190619', '21.2', '2', '21.7', '2', '11%-20%', '쾌청(운량:0-2)']\n",
            "['서해', '용유도(31302)', '20190620', '21.6', '2', '22.4', '2', '11%-20%', '쾌청(운량:0-2)']\n",
            "['서해', '용유도(31302)', '20190621', '22.3', '2', '20.9', '2', '71%-80%', '흐림(운량:8-10)']\n",
            "['서해', '용유도(31302)', '20190624', '20.8', '2', '23.8', '2', 'Zero', '쾌청(운량:0-2)']\n",
            "['서해', '용유도(31302)', '20190625', '20.9', '2', '19.7', '2', '', '안개(Fog)']\n",
            "['서해', '용유도(31302)', '20190626', '20.5', '2', '22', '2', '91%-100%', '흐림(운량:8-10)']\n",
            "['서해', '용유도(31302)', '20190627', '20.9', '2', '23.4', '2', '31%-40%', '개임(운량:3-7)']\n",
            "['서해', '용유도(31302)', '20190628', '21', '2', '23', '2', '81%-90%', '흐림(운량:8-10)']\n",
            "['서해', '용유도(31302)', '20190701', '22.7', '2', '22.5', '2', '11%-20%', '쾌청(운량:0-2)']\n",
            "['서해', '용유도(31302)', '20190702', '23.1', '2', '22.5', '2', 'Zero', '쾌청(운량:0-2)']\n",
            "['서해', '용유도(31302)', '20190703', '21.9', '2', '20.9', '2', '91%-100%', '흐림(운량:8-10)']\n",
            "['동해', '주문진(11002)', '20190605', '14.8', '2', '19.5', '2', '61%-70%', '개임(운량:3-7)']\n",
            "['동해', '주문진(11002)', '20190606', '', '2', '18.7', '2', '91%-100%', '안개(Fog)']\n",
            "['동해', '주문진(11002)', '20190607', '15.9', '2', '15.9', '2', '91%-100%', '이슬비']\n",
            "['동해', '주문진(11002)', '20190608', '15.6', '2', '19.6', '2', '51%-60%', '개임(운량:3-7)']\n",
            "['동해', '주문진(11002)', '20190609', '', '2', '17.6', '2', '91%-100%', '흐림(운량:8-10)']\n",
            "['동해', '주문진(11002)', '20190610', '12.5', '2', '16.7', '2', '71%-80%', '흐림(운량:8-10)']\n",
            "['동해', '주문진(11002)', '20190611', '15.8', '2', '16', '2', '91%-100%', '흐림(운량:8-10)']\n",
            "['동해', '주문진(11002)', '20190612', '17.1', '2', '18', '2', 'Zero', '쾌청(운량:0-2)']\n",
            "['동해', '주문진(11002)', '20190613', '15.8', '2', '22.4', '2', 'Zero', '쾌청(운량:0-2)']\n",
            "['동해', '주문진(11002)', '20190614', '15.9', '2', '24.8', '2', '91%-100%', '흐림(운량:8-10)']\n",
            "['동해', '주문진(11002)', '20190615', '16.8', '2', '19.9', '2', '71%-80%', '흐림(운량:8-10)']\n",
            "['동해', '주문진(11002)', '20190616', '', '2', '17.1', '2', '91%-100%', '이슬비']\n",
            "['동해', '주문진(11002)', '20190617', '17.4', '2', '20.6', '2', 'Zero', '쾌청(운량:0-2)']\n",
            "['동해', '주문진(11002)', '20190618', '17.9', '2', '22.7', '2', '91%-100%', '흐림(운량:8-10)']\n",
            "['동해', '주문진(11002)', '20190619', '18.8', '2', '25.9', '2', '21%-30%', '개임(운량:3-7)']\n",
            "['동해', '주문진(11002)', '20190620', '20.1', '2', '25.3', '2', '31%-40%', '개임(운량:3-7)']\n",
            "['동해', '주문진(11002)', '20190621', '19.1', '2', '21.6', '2', '91%-100%', '흐림(운량:8-10)']\n",
            "['동해', '주문진(11002)', '20190622', '20.8', '2', '20.9', '2', '1%-10%', '쾌청(운량:0-2)']\n",
            "['동해', '주문진(11002)', '20190623', '', '2', '20.4', '2', '21%-30%', '개임(운량:3-7)']\n",
            "['동해', '주문진(11002)', '20190624', '21.4', '2', '21.9', '2', '1%-10%', '쾌청(운량:0-2)']\n",
            "['동해', '주문진(11002)', '20190625', '18.4', '2', '22.5', '2', 'Zero', '쾌청(운량:0-2)']\n",
            "['동해', '주문진(11002)', '20190626', '16.4', '2', '24.9', '2', '51%-60%', '개임(운량:3-7)']\n",
            "['동해', '주문진(11002)', '20190627', '17.1', '2', '23.2', '2', '51%-60%', '개임(운량:3-7)']\n",
            "['동해', '주문진(11002)', '20190628', '20.8', '2', '20.4', '2', '91%-100%', '이슬비']\n",
            "['동해', '주문진(11002)', '20190629', '20.9', '2', '20.5', '2', '91%-100%', '이슬비']\n",
            "['동해', '주문진(11002)', '20190630', '', '2', '25.4', '2', '81%-90%', '흐림(운량:8-10)']\n",
            "['동해', '주문진(11002)', '20190701', '21.2', '2', '23.3', '2', '71%-80%', '흐림(운량:8-10)']\n",
            "['동해', '주문진(11002)', '20190702', '20.8', '2', '26.5', '2', '1%-10%', '쾌청(운량:0-2)']\n",
            "['동해', '주문진(11002)', '20190703', '21.9', '2', '28.7', '2', '21%-30%', '개임(운량:3-7)']\n",
            "['동해', '주문진(11002)', '20190704', '20.9', '2', '27.8', '2', 'Zero', '쾌청(운량:0-2)']\n",
            "['동해', '포항(11701)', '20190605', '13.1', '2', '23.5', '2', 'Zero', '']\n",
            "['동해', '포항(11701)', '20190607', '15.8', '2', '17.8', '2', '91%-100%', '']\n",
            "['동해', '포항(11701)', '20190610', '15.5', '2', '19.4', '2', '71%-80%', '']\n",
            "['동해', '포항(11701)', '20190611', '16.8', '2', '18.6', '2', '71%-80%', '']\n",
            "['동해', '포항(11701)', '20190612', '18.1', '2', '19.5', '2', '61%-70%', '']\n",
            "['동해', '포항(11701)', '20190613', '18.8', '2', '21.8', '2', 'Zero', '']\n",
            "['동해', '포항(11701)', '20190614', '19.1', '2', '21.2', '2', '91%-100%', '']\n",
            "['동해', '포항(11701)', '20190617', '20.1', '2', '22.9', '2', '81%-90%', '']\n",
            "['동해', '포항(11701)', '20190618', '20.3', '2', '24', '2', '91%-100%', '']\n",
            "['동해', '포항(11701)', '20190619', '20.5', '2', '26.1', '2', '71%-80%', '쾌청(운량:0-2)']\n",
            "['동해', '포항(11701)', '20190620', '21', '2', '27.1', '2', 'Zero', '']\n",
            "['동해', '포항(11701)', '20190621', '21.8', '2', '25.6', '2', '11%-20%', '']\n",
            "['동해', '포항(11701)', '20190624', '22.8', '2', '23', '2', '11%-20%', '']\n",
            "['동해', '포항(11701)', '20190625', '23.1', '2', '24.5', '2', 'Zero', '']\n",
            "['동해', '포항(11701)', '20190626', '22.6', '2', '23.4', '2', '91%-100%', '']\n",
            "['동해', '포항(11701)', '20190627', '21.5', '2', '23.9', '2', '91%-100%', '']\n",
            "['동해', '포항(11701)', '20190628', '22.6', '2', '21.2', '2', '91%-100%', '']\n",
            "['동해', '포항(11701)', '20190701', '21.8', '2', '25.3', '2', '81%-90%', '']\n",
            "['동해', '포항(11701)', '20190702', '21.7', '2', '26.7', '2', '51%-60%', '']\n",
            "['동해', '포항(11701)', '20190703', '21.5', '2', '26.4', '2', '71%-80%', '']\n",
            "['동해', '포항(11701)', '20190704', '21.8', '2', '28.4', '2', 'Zero', '']\n",
            "['남해', '화양(22001)', '20190605', '20.1', '2', '24.4', '2', 'Zero', '쾌청(운량:0-2)']\n",
            "['남해', '화양(22001)', '20190607', '20.6', '2', '20', '2', '91%-100%', '흐림(운량:8-10)']\n",
            "['남해', '화양(22001)', '20190610', '20.4', '2', '19.8', '2', '91%-100%', '흐림(운량:8-10)']\n",
            "['남해', '화양(22001)', '20190611', '20.1', '2', '19.3', '2', '91%-100%', '흐림(운량:8-10)']\n",
            "['남해', '화양(22001)', '20190612', '20.9', '2', '20.6', '2', '21%-30%', '개임(운량:3-7)']\n",
            "['남해', '화양(22001)', '20190613', '20.9', '2', '20.3', '2', '71%-80%', '흐림(운량:8-10)']\n",
            "['남해', '화양(22001)', '20190626', '21.9', '2', '18.5', '2', '81%-90%', '비']\n",
            "['남해', '화양(22001)', '20190627', '22.5', '2', '22.4', '2', '91%-100%', '안개(Fog)']\n",
            "['남해', '화양(22001)', '20190628', '23.6', '2', '24.2', '2', '21%-30%', '개임(운량:3-7)']\n",
            "['남해', '화양(22001)', '20190701', '22.8', '2', '24.5', '2', '21%-30%', '개임(운량:3-7)']\n",
            "['남해', '화양(22001)', '20190702', '23.4', '2', '25.4', '2', '71%-80%', '흐림(운량:8-10)']\n",
            "['남해', '화양(22001)', '20190703', '22.3', '2', '24.4', '2', '91%-100%', '흐림(운량:8-10)']\n",
            "['남해', '화양(22001)', '20190704', '23.1', '2', '26.7', '2', '21%-30%', '개임(운량:3-7)']\n"
          ]
        }
      ]
    },
    {
      "cell_type": "code",
      "source": [
        "import pandas as pd\n",
        "\n",
        "df = pd.read_csv(filename)\n",
        "df"
      ],
      "metadata": {
        "colab": {
          "base_uri": "https://localhost:8080/",
          "height": 331
        },
        "id": "jS2gzYY5Shiu",
        "outputId": "9d62be72-0a5c-4c68-d802-25494b693d9f"
      },
      "execution_count": null,
      "outputs": [
        {
          "output_type": "execute_result",
          "data": {
            "text/html": [
              "\n",
              "  <div id=\"df-1c34e24c-7e36-42ab-9664-b707025c55ba\">\n",
              "    <div class=\"colab-df-container\">\n",
              "      <div>\n",
              "<style scoped>\n",
              "    .dataframe tbody tr th:only-of-type {\n",
              "        vertical-align: middle;\n",
              "    }\n",
              "\n",
              "    .dataframe tbody tr th {\n",
              "        vertical-align: top;\n",
              "    }\n",
              "\n",
              "    .dataframe thead th {\n",
              "        text-align: right;\n",
              "    }\n",
              "</style>\n",
              "<table border=\"1\" class=\"dataframe\">\n",
              "  <thead>\n",
              "    <tr style=\"text-align: right;\">\n",
              "      <th></th>\n",
              "      <th>해역</th>\n",
              "      <th>연안정점</th>\n",
              "      <th>관측일시</th>\n",
              "      <th>수온</th>\n",
              "      <th>수온 QC Flag</th>\n",
              "      <th>기온</th>\n",
              "      <th>기온 QC</th>\n",
              "      <th>운량</th>\n",
              "      <th>천기</th>\n",
              "    </tr>\n",
              "  </thead>\n",
              "  <tbody>\n",
              "    <tr>\n",
              "      <th>0</th>\n",
              "      <td>동해</td>\n",
              "      <td>기장(12201)</td>\n",
              "      <td>20190605</td>\n",
              "      <td>15.4</td>\n",
              "      <td>2</td>\n",
              "      <td>24.4</td>\n",
              "      <td>2</td>\n",
              "      <td>1%-10%</td>\n",
              "      <td>NaN</td>\n",
              "    </tr>\n",
              "    <tr>\n",
              "      <th>1</th>\n",
              "      <td>동해</td>\n",
              "      <td>기장(12201)</td>\n",
              "      <td>20190606</td>\n",
              "      <td>15.4</td>\n",
              "      <td>2</td>\n",
              "      <td>NaN</td>\n",
              "      <td>2</td>\n",
              "      <td>NaN</td>\n",
              "      <td>NaN</td>\n",
              "    </tr>\n",
              "    <tr>\n",
              "      <th>2</th>\n",
              "      <td>동해</td>\n",
              "      <td>기장(12201)</td>\n",
              "      <td>20190607</td>\n",
              "      <td>17.4</td>\n",
              "      <td>2</td>\n",
              "      <td>19.2</td>\n",
              "      <td>2</td>\n",
              "      <td>91%-100%</td>\n",
              "      <td>비</td>\n",
              "    </tr>\n",
              "    <tr>\n",
              "      <th>3</th>\n",
              "      <td>동해</td>\n",
              "      <td>기장(12201)</td>\n",
              "      <td>20190608</td>\n",
              "      <td>17.5</td>\n",
              "      <td>2</td>\n",
              "      <td>NaN</td>\n",
              "      <td>2</td>\n",
              "      <td>NaN</td>\n",
              "      <td>NaN</td>\n",
              "    </tr>\n",
              "    <tr>\n",
              "      <th>4</th>\n",
              "      <td>동해</td>\n",
              "      <td>기장(12201)</td>\n",
              "      <td>20190609</td>\n",
              "      <td>17.6</td>\n",
              "      <td>2</td>\n",
              "      <td>NaN</td>\n",
              "      <td>2</td>\n",
              "      <td>NaN</td>\n",
              "      <td>NaN</td>\n",
              "    </tr>\n",
              "    <tr>\n",
              "      <th>...</th>\n",
              "      <td>...</td>\n",
              "      <td>...</td>\n",
              "      <td>...</td>\n",
              "      <td>...</td>\n",
              "      <td>...</td>\n",
              "      <td>...</td>\n",
              "      <td>...</td>\n",
              "      <td>...</td>\n",
              "      <td>...</td>\n",
              "    </tr>\n",
              "    <tr>\n",
              "      <th>92</th>\n",
              "      <td>남해</td>\n",
              "      <td>화양(22001)</td>\n",
              "      <td>20190628</td>\n",
              "      <td>23.6</td>\n",
              "      <td>2</td>\n",
              "      <td>24.2</td>\n",
              "      <td>2</td>\n",
              "      <td>21%-30%</td>\n",
              "      <td>개임(운량:3-7)</td>\n",
              "    </tr>\n",
              "    <tr>\n",
              "      <th>93</th>\n",
              "      <td>남해</td>\n",
              "      <td>화양(22001)</td>\n",
              "      <td>20190701</td>\n",
              "      <td>22.8</td>\n",
              "      <td>2</td>\n",
              "      <td>24.5</td>\n",
              "      <td>2</td>\n",
              "      <td>21%-30%</td>\n",
              "      <td>개임(운량:3-7)</td>\n",
              "    </tr>\n",
              "    <tr>\n",
              "      <th>94</th>\n",
              "      <td>남해</td>\n",
              "      <td>화양(22001)</td>\n",
              "      <td>20190702</td>\n",
              "      <td>23.4</td>\n",
              "      <td>2</td>\n",
              "      <td>25.4</td>\n",
              "      <td>2</td>\n",
              "      <td>71%-80%</td>\n",
              "      <td>흐림(운량:8-10)</td>\n",
              "    </tr>\n",
              "    <tr>\n",
              "      <th>95</th>\n",
              "      <td>남해</td>\n",
              "      <td>화양(22001)</td>\n",
              "      <td>20190703</td>\n",
              "      <td>22.3</td>\n",
              "      <td>2</td>\n",
              "      <td>24.4</td>\n",
              "      <td>2</td>\n",
              "      <td>91%-100%</td>\n",
              "      <td>흐림(운량:8-10)</td>\n",
              "    </tr>\n",
              "    <tr>\n",
              "      <th>96</th>\n",
              "      <td>남해</td>\n",
              "      <td>화양(22001)</td>\n",
              "      <td>20190704</td>\n",
              "      <td>23.1</td>\n",
              "      <td>2</td>\n",
              "      <td>26.7</td>\n",
              "      <td>2</td>\n",
              "      <td>21%-30%</td>\n",
              "      <td>개임(운량:3-7)</td>\n",
              "    </tr>\n",
              "  </tbody>\n",
              "</table>\n",
              "<p>97 rows × 9 columns</p>\n",
              "</div>\n",
              "      <button class=\"colab-df-convert\" onclick=\"convertToInteractive('df-1c34e24c-7e36-42ab-9664-b707025c55ba')\"\n",
              "              title=\"Convert this dataframe to an interactive table.\"\n",
              "              style=\"display:none;\">\n",
              "        \n",
              "  <svg xmlns=\"http://www.w3.org/2000/svg\" height=\"24px\"viewBox=\"0 0 24 24\"\n",
              "       width=\"24px\">\n",
              "    <path d=\"M0 0h24v24H0V0z\" fill=\"none\"/>\n",
              "    <path d=\"M18.56 5.44l.94 2.06.94-2.06 2.06-.94-2.06-.94-.94-2.06-.94 2.06-2.06.94zm-11 1L8.5 8.5l.94-2.06 2.06-.94-2.06-.94L8.5 2.5l-.94 2.06-2.06.94zm10 10l.94 2.06.94-2.06 2.06-.94-2.06-.94-.94-2.06-.94 2.06-2.06.94z\"/><path d=\"M17.41 7.96l-1.37-1.37c-.4-.4-.92-.59-1.43-.59-.52 0-1.04.2-1.43.59L10.3 9.45l-7.72 7.72c-.78.78-.78 2.05 0 2.83L4 21.41c.39.39.9.59 1.41.59.51 0 1.02-.2 1.41-.59l7.78-7.78 2.81-2.81c.8-.78.8-2.07 0-2.86zM5.41 20L4 18.59l7.72-7.72 1.47 1.35L5.41 20z\"/>\n",
              "  </svg>\n",
              "      </button>\n",
              "      \n",
              "  <style>\n",
              "    .colab-df-container {\n",
              "      display:flex;\n",
              "      flex-wrap:wrap;\n",
              "      gap: 12px;\n",
              "    }\n",
              "\n",
              "    .colab-df-convert {\n",
              "      background-color: #E8F0FE;\n",
              "      border: none;\n",
              "      border-radius: 50%;\n",
              "      cursor: pointer;\n",
              "      display: none;\n",
              "      fill: #1967D2;\n",
              "      height: 32px;\n",
              "      padding: 0 0 0 0;\n",
              "      width: 32px;\n",
              "    }\n",
              "\n",
              "    .colab-df-convert:hover {\n",
              "      background-color: #E2EBFA;\n",
              "      box-shadow: 0px 1px 2px rgba(60, 64, 67, 0.3), 0px 1px 3px 1px rgba(60, 64, 67, 0.15);\n",
              "      fill: #174EA6;\n",
              "    }\n",
              "\n",
              "    [theme=dark] .colab-df-convert {\n",
              "      background-color: #3B4455;\n",
              "      fill: #D2E3FC;\n",
              "    }\n",
              "\n",
              "    [theme=dark] .colab-df-convert:hover {\n",
              "      background-color: #434B5C;\n",
              "      box-shadow: 0px 1px 3px 1px rgba(0, 0, 0, 0.15);\n",
              "      filter: drop-shadow(0px 1px 2px rgba(0, 0, 0, 0.3));\n",
              "      fill: #FFFFFF;\n",
              "    }\n",
              "  </style>\n",
              "\n",
              "      <script>\n",
              "        const buttonEl =\n",
              "          document.querySelector('#df-1c34e24c-7e36-42ab-9664-b707025c55ba button.colab-df-convert');\n",
              "        buttonEl.style.display =\n",
              "          google.colab.kernel.accessAllowed ? 'block' : 'none';\n",
              "\n",
              "        async function convertToInteractive(key) {\n",
              "          const element = document.querySelector('#df-1c34e24c-7e36-42ab-9664-b707025c55ba');\n",
              "          const dataTable =\n",
              "            await google.colab.kernel.invokeFunction('convertToInteractive',\n",
              "                                                     [key], {});\n",
              "          if (!dataTable) return;\n",
              "\n",
              "          const docLinkHtml = 'Like what you see? Visit the ' +\n",
              "            '<a target=\"_blank\" href=https://colab.research.google.com/notebooks/data_table.ipynb>data table notebook</a>'\n",
              "            + ' to learn more about interactive tables.';\n",
              "          element.innerHTML = '';\n",
              "          dataTable['output_type'] = 'display_data';\n",
              "          await google.colab.output.renderOutput(dataTable, element);\n",
              "          const docLink = document.createElement('div');\n",
              "          docLink.innerHTML = docLinkHtml;\n",
              "          element.appendChild(docLink);\n",
              "        }\n",
              "      </script>\n",
              "    </div>\n",
              "  </div>\n",
              "  "
            ],
            "text/plain": [
              "    해역       연안정점      관측일시    수온  수온 QC Flag    기온  기온 QC        운량  \\\n",
              "0   동해  기장(12201)  20190605  15.4           2  24.4      2    1%-10%   \n",
              "1   동해  기장(12201)  20190606  15.4           2   NaN      2       NaN   \n",
              "2   동해  기장(12201)  20190607  17.4           2  19.2      2  91%-100%   \n",
              "3   동해  기장(12201)  20190608  17.5           2   NaN      2       NaN   \n",
              "4   동해  기장(12201)  20190609  17.6           2   NaN      2       NaN   \n",
              "..  ..        ...       ...   ...         ...   ...    ...       ...   \n",
              "92  남해  화양(22001)  20190628  23.6           2  24.2      2   21%-30%   \n",
              "93  남해  화양(22001)  20190701  22.8           2  24.5      2   21%-30%   \n",
              "94  남해  화양(22001)  20190702  23.4           2  25.4      2   71%-80%   \n",
              "95  남해  화양(22001)  20190703  22.3           2  24.4      2  91%-100%   \n",
              "96  남해  화양(22001)  20190704  23.1           2  26.7      2   21%-30%   \n",
              "\n",
              "             천기  \n",
              "0           NaN  \n",
              "1           NaN  \n",
              "2             비  \n",
              "3           NaN  \n",
              "4           NaN  \n",
              "..          ...  \n",
              "92   개임(운량:3-7)  \n",
              "93   개임(운량:3-7)  \n",
              "94  흐림(운량:8-10)  \n",
              "95  흐림(운량:8-10)  \n",
              "96   개임(운량:3-7)  \n",
              "\n",
              "[97 rows x 9 columns]"
            ]
          },
          "metadata": {},
          "execution_count": 33
        }
      ]
    },
    {
      "cell_type": "code",
      "source": [
        "import pandas as pd \n",
        "\n",
        "df_excel = pd.read_excel('./2022_IDS507_Lab/data/udong_2015.xlsx')"
      ],
      "metadata": {
        "id": "VkOjA-dEStAL"
      },
      "execution_count": null,
      "outputs": []
    },
    {
      "cell_type": "code",
      "source": [
        "df_excel"
      ],
      "metadata": {
        "colab": {
          "base_uri": "https://localhost:8080/",
          "height": 540
        },
        "id": "Zs6-Z1vqT3V5",
        "outputId": "d9b7daad-10f3-4d48-a5f2-a33da950a86e"
      },
      "execution_count": null,
      "outputs": [
        {
          "output_type": "execute_result",
          "data": {
            "text/html": [
              "\n",
              "  <div id=\"df-39f7b79b-b267-46aa-8ad5-76638a566f19\">\n",
              "    <div class=\"colab-df-container\">\n",
              "      <div>\n",
              "<style scoped>\n",
              "    .dataframe tbody tr th:only-of-type {\n",
              "        vertical-align: middle;\n",
              "    }\n",
              "\n",
              "    .dataframe tbody tr th {\n",
              "        vertical-align: top;\n",
              "    }\n",
              "\n",
              "    .dataframe thead th {\n",
              "        text-align: right;\n",
              "    }\n",
              "</style>\n",
              "<table border=\"1\" class=\"dataframe\">\n",
              "  <thead>\n",
              "    <tr style=\"text-align: right;\">\n",
              "      <th></th>\n",
              "      <th>유동인구_조사지점정보_2015</th>\n",
              "      <th>Unnamed: 1</th>\n",
              "      <th>Unnamed: 2</th>\n",
              "      <th>Unnamed: 3</th>\n",
              "      <th>Unnamed: 4</th>\n",
              "      <th>Unnamed: 5</th>\n",
              "      <th>Unnamed: 6</th>\n",
              "      <th>Unnamed: 7</th>\n",
              "      <th>Unnamed: 8</th>\n",
              "      <th>Unnamed: 9</th>\n",
              "      <th>...</th>\n",
              "      <th>Unnamed: 27</th>\n",
              "      <th>Unnamed: 28</th>\n",
              "      <th>Unnamed: 29</th>\n",
              "      <th>Unnamed: 30</th>\n",
              "      <th>Unnamed: 31</th>\n",
              "      <th>Unnamed: 32</th>\n",
              "      <th>Unnamed: 33</th>\n",
              "      <th>Unnamed: 34</th>\n",
              "      <th>Unnamed: 35</th>\n",
              "      <th>Unnamed: 36</th>\n",
              "    </tr>\n",
              "  </thead>\n",
              "  <tbody>\n",
              "    <tr>\n",
              "      <th>0</th>\n",
              "      <td>NaN</td>\n",
              "      <td>NaN</td>\n",
              "      <td>NaN</td>\n",
              "      <td>NaN</td>\n",
              "      <td>NaN</td>\n",
              "      <td>NaN</td>\n",
              "      <td>NaN</td>\n",
              "      <td>NaN</td>\n",
              "      <td>NaN</td>\n",
              "      <td>NaN</td>\n",
              "      <td>...</td>\n",
              "      <td>NaN</td>\n",
              "      <td>NaN</td>\n",
              "      <td>NaN</td>\n",
              "      <td>NaN</td>\n",
              "      <td>NaN</td>\n",
              "      <td>NaN</td>\n",
              "      <td>NaN</td>\n",
              "      <td>NaN</td>\n",
              "      <td>NaN</td>\n",
              "      <td>NaN</td>\n",
              "    </tr>\n",
              "    <tr>\n",
              "      <th>1</th>\n",
              "      <td>조사지점코드</td>\n",
              "      <td>조사지점명</td>\n",
              "      <td>구코드</td>\n",
              "      <td>동코드</td>\n",
              "      <td>주번지</td>\n",
              "      <td>부번지</td>\n",
              "      <td>도로명</td>\n",
              "      <td>보도너비</td>\n",
              "      <td>차선수</td>\n",
              "      <td>버스차로유무</td>\n",
              "      <td>...</td>\n",
              "      <td>지구중심상세내용</td>\n",
              "      <td>도심부도심지역명</td>\n",
              "      <td>용도구분</td>\n",
              "      <td>거주유형구분</td>\n",
              "      <td>입지유형명</td>\n",
              "      <td>X좌표</td>\n",
              "      <td>Y좌표</td>\n",
              "      <td>집계구코드</td>\n",
              "      <td>년도</td>\n",
              "      <td>조사구분</td>\n",
              "    </tr>\n",
              "    <tr>\n",
              "      <th>2</th>\n",
              "      <td>EXAMIN_SPOT_CD</td>\n",
              "      <td>EXAMIN_SPOT_NM</td>\n",
              "      <td>GU_CD</td>\n",
              "      <td>DONG_CD</td>\n",
              "      <td>BUNJI</td>\n",
              "      <td>BUBUN</td>\n",
              "      <td>ROAD_NM</td>\n",
              "      <td>FTPTH_BT</td>\n",
              "      <td>TFCLNE</td>\n",
              "      <td>BUS_CARTRK_ENNC_SE</td>\n",
              "      <td>...</td>\n",
              "      <td>DSTRC_CENTER_DETAIL</td>\n",
              "      <td>CDCT_SUB_CDCT_AREA_NM</td>\n",
              "      <td>PRPOS_NM</td>\n",
              "      <td>RESIDE_TY_SE</td>\n",
              "      <td>LCT_TY_NM</td>\n",
              "      <td>XCRD_LC</td>\n",
              "      <td>YCRD_LC</td>\n",
              "      <td>SM_GU_CD</td>\n",
              "      <td>YEAR</td>\n",
              "      <td>EXAMIN_CLS</td>\n",
              "    </tr>\n",
              "    <tr>\n",
              "      <th>3</th>\n",
              "      <td>01-003</td>\n",
              "      <td>신흥모피명품전문크리닝.</td>\n",
              "      <td>11010</td>\n",
              "      <td>1101055</td>\n",
              "      <td>127</td>\n",
              "      <td>11</td>\n",
              "      <td>NaN</td>\n",
              "      <td>3</td>\n",
              "      <td>8</td>\n",
              "      <td>유</td>\n",
              "      <td>...</td>\n",
              "      <td>NaN</td>\n",
              "      <td>NaN</td>\n",
              "      <td>2종주거</td>\n",
              "      <td>NaN</td>\n",
              "      <td>NaN</td>\n",
              "      <td>196423.97707</td>\n",
              "      <td>455511.52968</td>\n",
              "      <td>1101055010007</td>\n",
              "      <td>2015</td>\n",
              "      <td>본조사</td>\n",
              "    </tr>\n",
              "    <tr>\n",
              "      <th>4</th>\n",
              "      <td>01-004</td>\n",
              "      <td>GS25</td>\n",
              "      <td>11010</td>\n",
              "      <td>1101055</td>\n",
              "      <td>94</td>\n",
              "      <td>2</td>\n",
              "      <td>세검정로 230</td>\n",
              "      <td>3</td>\n",
              "      <td>7</td>\n",
              "      <td>유</td>\n",
              "      <td>...</td>\n",
              "      <td>NaN</td>\n",
              "      <td>NaN</td>\n",
              "      <td>2종주거</td>\n",
              "      <td>NaN</td>\n",
              "      <td>NaN</td>\n",
              "      <td>196315.80243</td>\n",
              "      <td>455621.38262</td>\n",
              "      <td>1101055020005</td>\n",
              "      <td>2015</td>\n",
              "      <td>본조사</td>\n",
              "    </tr>\n",
              "    <tr>\n",
              "      <th>...</th>\n",
              "      <td>...</td>\n",
              "      <td>...</td>\n",
              "      <td>...</td>\n",
              "      <td>...</td>\n",
              "      <td>...</td>\n",
              "      <td>...</td>\n",
              "      <td>...</td>\n",
              "      <td>...</td>\n",
              "      <td>...</td>\n",
              "      <td>...</td>\n",
              "      <td>...</td>\n",
              "      <td>...</td>\n",
              "      <td>...</td>\n",
              "      <td>...</td>\n",
              "      <td>...</td>\n",
              "      <td>...</td>\n",
              "      <td>...</td>\n",
              "      <td>...</td>\n",
              "      <td>...</td>\n",
              "      <td>...</td>\n",
              "      <td>...</td>\n",
              "    </tr>\n",
              "    <tr>\n",
              "      <th>1498</th>\n",
              "      <td>40-020</td>\n",
              "      <td>원서공원 입구</td>\n",
              "      <td>NaN</td>\n",
              "      <td>NaN</td>\n",
              "      <td>NaN</td>\n",
              "      <td>NaN</td>\n",
              "      <td>NaN</td>\n",
              "      <td>NaN</td>\n",
              "      <td>NaN</td>\n",
              "      <td>NaN</td>\n",
              "      <td>...</td>\n",
              "      <td>NaN</td>\n",
              "      <td>NaN</td>\n",
              "      <td>NaN</td>\n",
              "      <td>NaN</td>\n",
              "      <td>NaN</td>\n",
              "      <td>NaN</td>\n",
              "      <td>NaN</td>\n",
              "      <td>NaN</td>\n",
              "      <td>2015</td>\n",
              "      <td>북촌</td>\n",
              "    </tr>\n",
              "    <tr>\n",
              "      <th>1499</th>\n",
              "      <td>40-021</td>\n",
              "      <td>커피 Biwon</td>\n",
              "      <td>NaN</td>\n",
              "      <td>NaN</td>\n",
              "      <td>NaN</td>\n",
              "      <td>NaN</td>\n",
              "      <td>NaN</td>\n",
              "      <td>NaN</td>\n",
              "      <td>NaN</td>\n",
              "      <td>NaN</td>\n",
              "      <td>...</td>\n",
              "      <td>NaN</td>\n",
              "      <td>NaN</td>\n",
              "      <td>NaN</td>\n",
              "      <td>NaN</td>\n",
              "      <td>NaN</td>\n",
              "      <td>NaN</td>\n",
              "      <td>NaN</td>\n",
              "      <td>NaN</td>\n",
              "      <td>2015</td>\n",
              "      <td>북촌</td>\n",
              "    </tr>\n",
              "    <tr>\n",
              "      <th>1500</th>\n",
              "      <td>40-022</td>\n",
              "      <td>용수산 비원점</td>\n",
              "      <td>NaN</td>\n",
              "      <td>NaN</td>\n",
              "      <td>NaN</td>\n",
              "      <td>NaN</td>\n",
              "      <td>NaN</td>\n",
              "      <td>NaN</td>\n",
              "      <td>NaN</td>\n",
              "      <td>NaN</td>\n",
              "      <td>...</td>\n",
              "      <td>NaN</td>\n",
              "      <td>NaN</td>\n",
              "      <td>NaN</td>\n",
              "      <td>NaN</td>\n",
              "      <td>NaN</td>\n",
              "      <td>NaN</td>\n",
              "      <td>NaN</td>\n",
              "      <td>NaN</td>\n",
              "      <td>2015</td>\n",
              "      <td>북촌</td>\n",
              "    </tr>\n",
              "    <tr>\n",
              "      <th>1501</th>\n",
              "      <td>40-023</td>\n",
              "      <td>한정식 장원</td>\n",
              "      <td>NaN</td>\n",
              "      <td>NaN</td>\n",
              "      <td>NaN</td>\n",
              "      <td>NaN</td>\n",
              "      <td>NaN</td>\n",
              "      <td>NaN</td>\n",
              "      <td>NaN</td>\n",
              "      <td>NaN</td>\n",
              "      <td>...</td>\n",
              "      <td>NaN</td>\n",
              "      <td>NaN</td>\n",
              "      <td>NaN</td>\n",
              "      <td>NaN</td>\n",
              "      <td>NaN</td>\n",
              "      <td>NaN</td>\n",
              "      <td>NaN</td>\n",
              "      <td>NaN</td>\n",
              "      <td>2015</td>\n",
              "      <td>북촌</td>\n",
              "    </tr>\n",
              "    <tr>\n",
              "      <th>1502</th>\n",
              "      <td>40-024</td>\n",
              "      <td>믿음 미용실</td>\n",
              "      <td>NaN</td>\n",
              "      <td>NaN</td>\n",
              "      <td>NaN</td>\n",
              "      <td>NaN</td>\n",
              "      <td>NaN</td>\n",
              "      <td>NaN</td>\n",
              "      <td>NaN</td>\n",
              "      <td>NaN</td>\n",
              "      <td>...</td>\n",
              "      <td>NaN</td>\n",
              "      <td>NaN</td>\n",
              "      <td>NaN</td>\n",
              "      <td>NaN</td>\n",
              "      <td>NaN</td>\n",
              "      <td>NaN</td>\n",
              "      <td>NaN</td>\n",
              "      <td>NaN</td>\n",
              "      <td>2015</td>\n",
              "      <td>북촌</td>\n",
              "    </tr>\n",
              "  </tbody>\n",
              "</table>\n",
              "<p>1503 rows × 37 columns</p>\n",
              "</div>\n",
              "      <button class=\"colab-df-convert\" onclick=\"convertToInteractive('df-39f7b79b-b267-46aa-8ad5-76638a566f19')\"\n",
              "              title=\"Convert this dataframe to an interactive table.\"\n",
              "              style=\"display:none;\">\n",
              "        \n",
              "  <svg xmlns=\"http://www.w3.org/2000/svg\" height=\"24px\"viewBox=\"0 0 24 24\"\n",
              "       width=\"24px\">\n",
              "    <path d=\"M0 0h24v24H0V0z\" fill=\"none\"/>\n",
              "    <path d=\"M18.56 5.44l.94 2.06.94-2.06 2.06-.94-2.06-.94-.94-2.06-.94 2.06-2.06.94zm-11 1L8.5 8.5l.94-2.06 2.06-.94-2.06-.94L8.5 2.5l-.94 2.06-2.06.94zm10 10l.94 2.06.94-2.06 2.06-.94-2.06-.94-.94-2.06-.94 2.06-2.06.94z\"/><path d=\"M17.41 7.96l-1.37-1.37c-.4-.4-.92-.59-1.43-.59-.52 0-1.04.2-1.43.59L10.3 9.45l-7.72 7.72c-.78.78-.78 2.05 0 2.83L4 21.41c.39.39.9.59 1.41.59.51 0 1.02-.2 1.41-.59l7.78-7.78 2.81-2.81c.8-.78.8-2.07 0-2.86zM5.41 20L4 18.59l7.72-7.72 1.47 1.35L5.41 20z\"/>\n",
              "  </svg>\n",
              "      </button>\n",
              "      \n",
              "  <style>\n",
              "    .colab-df-container {\n",
              "      display:flex;\n",
              "      flex-wrap:wrap;\n",
              "      gap: 12px;\n",
              "    }\n",
              "\n",
              "    .colab-df-convert {\n",
              "      background-color: #E8F0FE;\n",
              "      border: none;\n",
              "      border-radius: 50%;\n",
              "      cursor: pointer;\n",
              "      display: none;\n",
              "      fill: #1967D2;\n",
              "      height: 32px;\n",
              "      padding: 0 0 0 0;\n",
              "      width: 32px;\n",
              "    }\n",
              "\n",
              "    .colab-df-convert:hover {\n",
              "      background-color: #E2EBFA;\n",
              "      box-shadow: 0px 1px 2px rgba(60, 64, 67, 0.3), 0px 1px 3px 1px rgba(60, 64, 67, 0.15);\n",
              "      fill: #174EA6;\n",
              "    }\n",
              "\n",
              "    [theme=dark] .colab-df-convert {\n",
              "      background-color: #3B4455;\n",
              "      fill: #D2E3FC;\n",
              "    }\n",
              "\n",
              "    [theme=dark] .colab-df-convert:hover {\n",
              "      background-color: #434B5C;\n",
              "      box-shadow: 0px 1px 3px 1px rgba(0, 0, 0, 0.15);\n",
              "      filter: drop-shadow(0px 1px 2px rgba(0, 0, 0, 0.3));\n",
              "      fill: #FFFFFF;\n",
              "    }\n",
              "  </style>\n",
              "\n",
              "      <script>\n",
              "        const buttonEl =\n",
              "          document.querySelector('#df-39f7b79b-b267-46aa-8ad5-76638a566f19 button.colab-df-convert');\n",
              "        buttonEl.style.display =\n",
              "          google.colab.kernel.accessAllowed ? 'block' : 'none';\n",
              "\n",
              "        async function convertToInteractive(key) {\n",
              "          const element = document.querySelector('#df-39f7b79b-b267-46aa-8ad5-76638a566f19');\n",
              "          const dataTable =\n",
              "            await google.colab.kernel.invokeFunction('convertToInteractive',\n",
              "                                                     [key], {});\n",
              "          if (!dataTable) return;\n",
              "\n",
              "          const docLinkHtml = 'Like what you see? Visit the ' +\n",
              "            '<a target=\"_blank\" href=https://colab.research.google.com/notebooks/data_table.ipynb>data table notebook</a>'\n",
              "            + ' to learn more about interactive tables.';\n",
              "          element.innerHTML = '';\n",
              "          dataTable['output_type'] = 'display_data';\n",
              "          await google.colab.output.renderOutput(dataTable, element);\n",
              "          const docLink = document.createElement('div');\n",
              "          docLink.innerHTML = docLinkHtml;\n",
              "          element.appendChild(docLink);\n",
              "        }\n",
              "      </script>\n",
              "    </div>\n",
              "  </div>\n",
              "  "
            ],
            "text/plain": [
              "     유동인구_조사지점정보_2015      Unnamed: 1 Unnamed: 2 Unnamed: 3 Unnamed: 4  \\\n",
              "0                 NaN             NaN        NaN        NaN        NaN   \n",
              "1              조사지점코드           조사지점명        구코드        동코드        주번지   \n",
              "2      EXAMIN_SPOT_CD  EXAMIN_SPOT_NM      GU_CD    DONG_CD      BUNJI   \n",
              "3              01-003    신흥모피명품전문크리닝.      11010    1101055        127   \n",
              "4              01-004            GS25      11010    1101055         94   \n",
              "...               ...             ...        ...        ...        ...   \n",
              "1498           40-020         원서공원 입구        NaN        NaN        NaN   \n",
              "1499           40-021        커피 Biwon        NaN        NaN        NaN   \n",
              "1500           40-022         용수산 비원점        NaN        NaN        NaN   \n",
              "1501           40-023          한정식 장원        NaN        NaN        NaN   \n",
              "1502           40-024          믿음 미용실        NaN        NaN        NaN   \n",
              "\n",
              "     Unnamed: 5 Unnamed: 6 Unnamed: 7 Unnamed: 8          Unnamed: 9  ...  \\\n",
              "0           NaN        NaN        NaN        NaN                 NaN  ...   \n",
              "1           부번지        도로명       보도너비        차선수              버스차로유무  ...   \n",
              "2         BUBUN    ROAD_NM   FTPTH_BT     TFCLNE  BUS_CARTRK_ENNC_SE  ...   \n",
              "3            11        NaN          3          8                   유  ...   \n",
              "4             2   세검정로 230          3          7                   유  ...   \n",
              "...         ...        ...        ...        ...                 ...  ...   \n",
              "1498        NaN        NaN        NaN        NaN                 NaN  ...   \n",
              "1499        NaN        NaN        NaN        NaN                 NaN  ...   \n",
              "1500        NaN        NaN        NaN        NaN                 NaN  ...   \n",
              "1501        NaN        NaN        NaN        NaN                 NaN  ...   \n",
              "1502        NaN        NaN        NaN        NaN                 NaN  ...   \n",
              "\n",
              "              Unnamed: 27            Unnamed: 28 Unnamed: 29   Unnamed: 30  \\\n",
              "0                     NaN                    NaN         NaN           NaN   \n",
              "1                지구중심상세내용               도심부도심지역명        용도구분        거주유형구분   \n",
              "2     DSTRC_CENTER_DETAIL  CDCT_SUB_CDCT_AREA_NM    PRPOS_NM  RESIDE_TY_SE   \n",
              "3                     NaN                    NaN        2종주거           NaN   \n",
              "4                     NaN                    NaN        2종주거           NaN   \n",
              "...                   ...                    ...         ...           ...   \n",
              "1498                  NaN                    NaN         NaN           NaN   \n",
              "1499                  NaN                    NaN         NaN           NaN   \n",
              "1500                  NaN                    NaN         NaN           NaN   \n",
              "1501                  NaN                    NaN         NaN           NaN   \n",
              "1502                  NaN                    NaN         NaN           NaN   \n",
              "\n",
              "     Unnamed: 31   Unnamed: 32   Unnamed: 33    Unnamed: 34 Unnamed: 35  \\\n",
              "0            NaN           NaN           NaN            NaN         NaN   \n",
              "1          입지유형명           X좌표           Y좌표          집계구코드          년도   \n",
              "2      LCT_TY_NM       XCRD_LC       YCRD_LC       SM_GU_CD        YEAR   \n",
              "3            NaN  196423.97707  455511.52968  1101055010007        2015   \n",
              "4            NaN  196315.80243  455621.38262  1101055020005        2015   \n",
              "...          ...           ...           ...            ...         ...   \n",
              "1498         NaN           NaN           NaN            NaN        2015   \n",
              "1499         NaN           NaN           NaN            NaN        2015   \n",
              "1500         NaN           NaN           NaN            NaN        2015   \n",
              "1501         NaN           NaN           NaN            NaN        2015   \n",
              "1502         NaN           NaN           NaN            NaN        2015   \n",
              "\n",
              "     Unnamed: 36  \n",
              "0            NaN  \n",
              "1           조사구분  \n",
              "2     EXAMIN_CLS  \n",
              "3            본조사  \n",
              "4            본조사  \n",
              "...          ...  \n",
              "1498          북촌  \n",
              "1499          북촌  \n",
              "1500          북촌  \n",
              "1501          북촌  \n",
              "1502          북촌  \n",
              "\n",
              "[1503 rows x 37 columns]"
            ]
          },
          "metadata": {},
          "execution_count": 35
        }
      ]
    },
    {
      "cell_type": "code",
      "source": [
        "df_excel = pd.read_excel('./2022_IDS507_Lab/data/udong_2015.xlsx',\n",
        "                         skiprows=[0,1])"
      ],
      "metadata": {
        "id": "wK513wkLT4nN"
      },
      "execution_count": null,
      "outputs": []
    },
    {
      "cell_type": "code",
      "source": [
        "df_excel"
      ],
      "metadata": {
        "colab": {
          "base_uri": "https://localhost:8080/",
          "height": 557
        },
        "id": "ICNG25aKUg9N",
        "outputId": "24bf41a0-9c63-4811-eb21-597e5a96d82d"
      },
      "execution_count": null,
      "outputs": [
        {
          "output_type": "execute_result",
          "data": {
            "text/html": [
              "\n",
              "  <div id=\"df-d42f1e54-1007-4961-81d4-4fef764174a2\">\n",
              "    <div class=\"colab-df-container\">\n",
              "      <div>\n",
              "<style scoped>\n",
              "    .dataframe tbody tr th:only-of-type {\n",
              "        vertical-align: middle;\n",
              "    }\n",
              "\n",
              "    .dataframe tbody tr th {\n",
              "        vertical-align: top;\n",
              "    }\n",
              "\n",
              "    .dataframe thead th {\n",
              "        text-align: right;\n",
              "    }\n",
              "</style>\n",
              "<table border=\"1\" class=\"dataframe\">\n",
              "  <thead>\n",
              "    <tr style=\"text-align: right;\">\n",
              "      <th></th>\n",
              "      <th>조사지점코드</th>\n",
              "      <th>조사지점명</th>\n",
              "      <th>구코드</th>\n",
              "      <th>동코드</th>\n",
              "      <th>주번지</th>\n",
              "      <th>부번지</th>\n",
              "      <th>도로명</th>\n",
              "      <th>보도너비</th>\n",
              "      <th>차선수</th>\n",
              "      <th>버스차로유무</th>\n",
              "      <th>...</th>\n",
              "      <th>지구중심상세내용</th>\n",
              "      <th>도심부도심지역명</th>\n",
              "      <th>용도구분</th>\n",
              "      <th>거주유형구분</th>\n",
              "      <th>입지유형명</th>\n",
              "      <th>X좌표</th>\n",
              "      <th>Y좌표</th>\n",
              "      <th>집계구코드</th>\n",
              "      <th>년도</th>\n",
              "      <th>조사구분</th>\n",
              "    </tr>\n",
              "  </thead>\n",
              "  <tbody>\n",
              "    <tr>\n",
              "      <th>0</th>\n",
              "      <td>EXAMIN_SPOT_CD</td>\n",
              "      <td>EXAMIN_SPOT_NM</td>\n",
              "      <td>GU_CD</td>\n",
              "      <td>DONG_CD</td>\n",
              "      <td>BUNJI</td>\n",
              "      <td>BUBUN</td>\n",
              "      <td>ROAD_NM</td>\n",
              "      <td>FTPTH_BT</td>\n",
              "      <td>TFCLNE</td>\n",
              "      <td>BUS_CARTRK_ENNC_SE</td>\n",
              "      <td>...</td>\n",
              "      <td>DSTRC_CENTER_DETAIL</td>\n",
              "      <td>CDCT_SUB_CDCT_AREA_NM</td>\n",
              "      <td>PRPOS_NM</td>\n",
              "      <td>RESIDE_TY_SE</td>\n",
              "      <td>LCT_TY_NM</td>\n",
              "      <td>XCRD_LC</td>\n",
              "      <td>YCRD_LC</td>\n",
              "      <td>SM_GU_CD</td>\n",
              "      <td>YEAR</td>\n",
              "      <td>EXAMIN_CLS</td>\n",
              "    </tr>\n",
              "    <tr>\n",
              "      <th>1</th>\n",
              "      <td>01-003</td>\n",
              "      <td>신흥모피명품전문크리닝.</td>\n",
              "      <td>11010</td>\n",
              "      <td>1101055</td>\n",
              "      <td>127</td>\n",
              "      <td>11</td>\n",
              "      <td>NaN</td>\n",
              "      <td>3</td>\n",
              "      <td>8</td>\n",
              "      <td>유</td>\n",
              "      <td>...</td>\n",
              "      <td>NaN</td>\n",
              "      <td>NaN</td>\n",
              "      <td>2종주거</td>\n",
              "      <td>NaN</td>\n",
              "      <td>NaN</td>\n",
              "      <td>196423.97707</td>\n",
              "      <td>455511.52968</td>\n",
              "      <td>1101055010007</td>\n",
              "      <td>2015</td>\n",
              "      <td>본조사</td>\n",
              "    </tr>\n",
              "    <tr>\n",
              "      <th>2</th>\n",
              "      <td>01-004</td>\n",
              "      <td>GS25</td>\n",
              "      <td>11010</td>\n",
              "      <td>1101055</td>\n",
              "      <td>94</td>\n",
              "      <td>2</td>\n",
              "      <td>세검정로 230</td>\n",
              "      <td>3</td>\n",
              "      <td>7</td>\n",
              "      <td>유</td>\n",
              "      <td>...</td>\n",
              "      <td>NaN</td>\n",
              "      <td>NaN</td>\n",
              "      <td>2종주거</td>\n",
              "      <td>NaN</td>\n",
              "      <td>NaN</td>\n",
              "      <td>196315.80243</td>\n",
              "      <td>455621.38262</td>\n",
              "      <td>1101055020005</td>\n",
              "      <td>2015</td>\n",
              "      <td>본조사</td>\n",
              "    </tr>\n",
              "    <tr>\n",
              "      <th>3</th>\n",
              "      <td>01-005</td>\n",
              "      <td>세검정정류장</td>\n",
              "      <td>11010</td>\n",
              "      <td>1101055</td>\n",
              "      <td>92</td>\n",
              "      <td>0</td>\n",
              "      <td>세검정길</td>\n",
              "      <td>4</td>\n",
              "      <td>5</td>\n",
              "      <td>유</td>\n",
              "      <td>...</td>\n",
              "      <td>NaN</td>\n",
              "      <td>NaN</td>\n",
              "      <td>1종주거</td>\n",
              "      <td>NaN</td>\n",
              "      <td>NaN</td>\n",
              "      <td>196357.17125</td>\n",
              "      <td>455680.8258</td>\n",
              "      <td>1101055010002</td>\n",
              "      <td>2015</td>\n",
              "      <td>본조사</td>\n",
              "    </tr>\n",
              "    <tr>\n",
              "      <th>4</th>\n",
              "      <td>01-008</td>\n",
              "      <td>안성타워內 굿모닝파워공인중개사.</td>\n",
              "      <td>11010</td>\n",
              "      <td>1101056</td>\n",
              "      <td>72</td>\n",
              "      <td>72</td>\n",
              "      <td>NaN</td>\n",
              "      <td>4</td>\n",
              "      <td>4</td>\n",
              "      <td>유</td>\n",
              "      <td>...</td>\n",
              "      <td>NaN</td>\n",
              "      <td>NaN</td>\n",
              "      <td>2종주거</td>\n",
              "      <td>NaN</td>\n",
              "      <td>NaN</td>\n",
              "      <td>197904.19277</td>\n",
              "      <td>456718.34996</td>\n",
              "      <td>1101056030002</td>\n",
              "      <td>2015</td>\n",
              "      <td>본조사</td>\n",
              "    </tr>\n",
              "    <tr>\n",
              "      <th>...</th>\n",
              "      <td>...</td>\n",
              "      <td>...</td>\n",
              "      <td>...</td>\n",
              "      <td>...</td>\n",
              "      <td>...</td>\n",
              "      <td>...</td>\n",
              "      <td>...</td>\n",
              "      <td>...</td>\n",
              "      <td>...</td>\n",
              "      <td>...</td>\n",
              "      <td>...</td>\n",
              "      <td>...</td>\n",
              "      <td>...</td>\n",
              "      <td>...</td>\n",
              "      <td>...</td>\n",
              "      <td>...</td>\n",
              "      <td>...</td>\n",
              "      <td>...</td>\n",
              "      <td>...</td>\n",
              "      <td>...</td>\n",
              "      <td>...</td>\n",
              "    </tr>\n",
              "    <tr>\n",
              "      <th>1496</th>\n",
              "      <td>40-020</td>\n",
              "      <td>원서공원 입구</td>\n",
              "      <td>NaN</td>\n",
              "      <td>NaN</td>\n",
              "      <td>NaN</td>\n",
              "      <td>NaN</td>\n",
              "      <td>NaN</td>\n",
              "      <td>NaN</td>\n",
              "      <td>NaN</td>\n",
              "      <td>NaN</td>\n",
              "      <td>...</td>\n",
              "      <td>NaN</td>\n",
              "      <td>NaN</td>\n",
              "      <td>NaN</td>\n",
              "      <td>NaN</td>\n",
              "      <td>NaN</td>\n",
              "      <td>NaN</td>\n",
              "      <td>NaN</td>\n",
              "      <td>NaN</td>\n",
              "      <td>2015</td>\n",
              "      <td>북촌</td>\n",
              "    </tr>\n",
              "    <tr>\n",
              "      <th>1497</th>\n",
              "      <td>40-021</td>\n",
              "      <td>커피 Biwon</td>\n",
              "      <td>NaN</td>\n",
              "      <td>NaN</td>\n",
              "      <td>NaN</td>\n",
              "      <td>NaN</td>\n",
              "      <td>NaN</td>\n",
              "      <td>NaN</td>\n",
              "      <td>NaN</td>\n",
              "      <td>NaN</td>\n",
              "      <td>...</td>\n",
              "      <td>NaN</td>\n",
              "      <td>NaN</td>\n",
              "      <td>NaN</td>\n",
              "      <td>NaN</td>\n",
              "      <td>NaN</td>\n",
              "      <td>NaN</td>\n",
              "      <td>NaN</td>\n",
              "      <td>NaN</td>\n",
              "      <td>2015</td>\n",
              "      <td>북촌</td>\n",
              "    </tr>\n",
              "    <tr>\n",
              "      <th>1498</th>\n",
              "      <td>40-022</td>\n",
              "      <td>용수산 비원점</td>\n",
              "      <td>NaN</td>\n",
              "      <td>NaN</td>\n",
              "      <td>NaN</td>\n",
              "      <td>NaN</td>\n",
              "      <td>NaN</td>\n",
              "      <td>NaN</td>\n",
              "      <td>NaN</td>\n",
              "      <td>NaN</td>\n",
              "      <td>...</td>\n",
              "      <td>NaN</td>\n",
              "      <td>NaN</td>\n",
              "      <td>NaN</td>\n",
              "      <td>NaN</td>\n",
              "      <td>NaN</td>\n",
              "      <td>NaN</td>\n",
              "      <td>NaN</td>\n",
              "      <td>NaN</td>\n",
              "      <td>2015</td>\n",
              "      <td>북촌</td>\n",
              "    </tr>\n",
              "    <tr>\n",
              "      <th>1499</th>\n",
              "      <td>40-023</td>\n",
              "      <td>한정식 장원</td>\n",
              "      <td>NaN</td>\n",
              "      <td>NaN</td>\n",
              "      <td>NaN</td>\n",
              "      <td>NaN</td>\n",
              "      <td>NaN</td>\n",
              "      <td>NaN</td>\n",
              "      <td>NaN</td>\n",
              "      <td>NaN</td>\n",
              "      <td>...</td>\n",
              "      <td>NaN</td>\n",
              "      <td>NaN</td>\n",
              "      <td>NaN</td>\n",
              "      <td>NaN</td>\n",
              "      <td>NaN</td>\n",
              "      <td>NaN</td>\n",
              "      <td>NaN</td>\n",
              "      <td>NaN</td>\n",
              "      <td>2015</td>\n",
              "      <td>북촌</td>\n",
              "    </tr>\n",
              "    <tr>\n",
              "      <th>1500</th>\n",
              "      <td>40-024</td>\n",
              "      <td>믿음 미용실</td>\n",
              "      <td>NaN</td>\n",
              "      <td>NaN</td>\n",
              "      <td>NaN</td>\n",
              "      <td>NaN</td>\n",
              "      <td>NaN</td>\n",
              "      <td>NaN</td>\n",
              "      <td>NaN</td>\n",
              "      <td>NaN</td>\n",
              "      <td>...</td>\n",
              "      <td>NaN</td>\n",
              "      <td>NaN</td>\n",
              "      <td>NaN</td>\n",
              "      <td>NaN</td>\n",
              "      <td>NaN</td>\n",
              "      <td>NaN</td>\n",
              "      <td>NaN</td>\n",
              "      <td>NaN</td>\n",
              "      <td>2015</td>\n",
              "      <td>북촌</td>\n",
              "    </tr>\n",
              "  </tbody>\n",
              "</table>\n",
              "<p>1501 rows × 37 columns</p>\n",
              "</div>\n",
              "      <button class=\"colab-df-convert\" onclick=\"convertToInteractive('df-d42f1e54-1007-4961-81d4-4fef764174a2')\"\n",
              "              title=\"Convert this dataframe to an interactive table.\"\n",
              "              style=\"display:none;\">\n",
              "        \n",
              "  <svg xmlns=\"http://www.w3.org/2000/svg\" height=\"24px\"viewBox=\"0 0 24 24\"\n",
              "       width=\"24px\">\n",
              "    <path d=\"M0 0h24v24H0V0z\" fill=\"none\"/>\n",
              "    <path d=\"M18.56 5.44l.94 2.06.94-2.06 2.06-.94-2.06-.94-.94-2.06-.94 2.06-2.06.94zm-11 1L8.5 8.5l.94-2.06 2.06-.94-2.06-.94L8.5 2.5l-.94 2.06-2.06.94zm10 10l.94 2.06.94-2.06 2.06-.94-2.06-.94-.94-2.06-.94 2.06-2.06.94z\"/><path d=\"M17.41 7.96l-1.37-1.37c-.4-.4-.92-.59-1.43-.59-.52 0-1.04.2-1.43.59L10.3 9.45l-7.72 7.72c-.78.78-.78 2.05 0 2.83L4 21.41c.39.39.9.59 1.41.59.51 0 1.02-.2 1.41-.59l7.78-7.78 2.81-2.81c.8-.78.8-2.07 0-2.86zM5.41 20L4 18.59l7.72-7.72 1.47 1.35L5.41 20z\"/>\n",
              "  </svg>\n",
              "      </button>\n",
              "      \n",
              "  <style>\n",
              "    .colab-df-container {\n",
              "      display:flex;\n",
              "      flex-wrap:wrap;\n",
              "      gap: 12px;\n",
              "    }\n",
              "\n",
              "    .colab-df-convert {\n",
              "      background-color: #E8F0FE;\n",
              "      border: none;\n",
              "      border-radius: 50%;\n",
              "      cursor: pointer;\n",
              "      display: none;\n",
              "      fill: #1967D2;\n",
              "      height: 32px;\n",
              "      padding: 0 0 0 0;\n",
              "      width: 32px;\n",
              "    }\n",
              "\n",
              "    .colab-df-convert:hover {\n",
              "      background-color: #E2EBFA;\n",
              "      box-shadow: 0px 1px 2px rgba(60, 64, 67, 0.3), 0px 1px 3px 1px rgba(60, 64, 67, 0.15);\n",
              "      fill: #174EA6;\n",
              "    }\n",
              "\n",
              "    [theme=dark] .colab-df-convert {\n",
              "      background-color: #3B4455;\n",
              "      fill: #D2E3FC;\n",
              "    }\n",
              "\n",
              "    [theme=dark] .colab-df-convert:hover {\n",
              "      background-color: #434B5C;\n",
              "      box-shadow: 0px 1px 3px 1px rgba(0, 0, 0, 0.15);\n",
              "      filter: drop-shadow(0px 1px 2px rgba(0, 0, 0, 0.3));\n",
              "      fill: #FFFFFF;\n",
              "    }\n",
              "  </style>\n",
              "\n",
              "      <script>\n",
              "        const buttonEl =\n",
              "          document.querySelector('#df-d42f1e54-1007-4961-81d4-4fef764174a2 button.colab-df-convert');\n",
              "        buttonEl.style.display =\n",
              "          google.colab.kernel.accessAllowed ? 'block' : 'none';\n",
              "\n",
              "        async function convertToInteractive(key) {\n",
              "          const element = document.querySelector('#df-d42f1e54-1007-4961-81d4-4fef764174a2');\n",
              "          const dataTable =\n",
              "            await google.colab.kernel.invokeFunction('convertToInteractive',\n",
              "                                                     [key], {});\n",
              "          if (!dataTable) return;\n",
              "\n",
              "          const docLinkHtml = 'Like what you see? Visit the ' +\n",
              "            '<a target=\"_blank\" href=https://colab.research.google.com/notebooks/data_table.ipynb>data table notebook</a>'\n",
              "            + ' to learn more about interactive tables.';\n",
              "          element.innerHTML = '';\n",
              "          dataTable['output_type'] = 'display_data';\n",
              "          await google.colab.output.renderOutput(dataTable, element);\n",
              "          const docLink = document.createElement('div');\n",
              "          docLink.innerHTML = docLinkHtml;\n",
              "          element.appendChild(docLink);\n",
              "        }\n",
              "      </script>\n",
              "    </div>\n",
              "  </div>\n",
              "  "
            ],
            "text/plain": [
              "              조사지점코드              조사지점명    구코드      동코드    주번지    부번지  \\\n",
              "0     EXAMIN_SPOT_CD     EXAMIN_SPOT_NM  GU_CD  DONG_CD  BUNJI  BUBUN   \n",
              "1             01-003       신흥모피명품전문크리닝.  11010  1101055    127     11   \n",
              "2             01-004               GS25  11010  1101055     94      2   \n",
              "3             01-005             세검정정류장  11010  1101055     92      0   \n",
              "4             01-008  안성타워內 굿모닝파워공인중개사.  11010  1101056     72     72   \n",
              "...              ...                ...    ...      ...    ...    ...   \n",
              "1496          40-020            원서공원 입구    NaN      NaN    NaN    NaN   \n",
              "1497          40-021           커피 Biwon    NaN      NaN    NaN    NaN   \n",
              "1498          40-022            용수산 비원점    NaN      NaN    NaN    NaN   \n",
              "1499          40-023             한정식 장원    NaN      NaN    NaN    NaN   \n",
              "1500          40-024             믿음 미용실    NaN      NaN    NaN    NaN   \n",
              "\n",
              "           도로명      보도너비     차선수              버스차로유무  ...  \\\n",
              "0      ROAD_NM  FTPTH_BT  TFCLNE  BUS_CARTRK_ENNC_SE  ...   \n",
              "1          NaN         3       8                   유  ...   \n",
              "2     세검정로 230         3       7                   유  ...   \n",
              "3         세검정길         4       5                   유  ...   \n",
              "4          NaN         4       4                   유  ...   \n",
              "...        ...       ...     ...                 ...  ...   \n",
              "1496       NaN       NaN     NaN                 NaN  ...   \n",
              "1497       NaN       NaN     NaN                 NaN  ...   \n",
              "1498       NaN       NaN     NaN                 NaN  ...   \n",
              "1499       NaN       NaN     NaN                 NaN  ...   \n",
              "1500       NaN       NaN     NaN                 NaN  ...   \n",
              "\n",
              "                 지구중심상세내용               도심부도심지역명      용도구분        거주유형구분  \\\n",
              "0     DSTRC_CENTER_DETAIL  CDCT_SUB_CDCT_AREA_NM  PRPOS_NM  RESIDE_TY_SE   \n",
              "1                     NaN                    NaN      2종주거           NaN   \n",
              "2                     NaN                    NaN      2종주거           NaN   \n",
              "3                     NaN                    NaN      1종주거           NaN   \n",
              "4                     NaN                    NaN      2종주거           NaN   \n",
              "...                   ...                    ...       ...           ...   \n",
              "1496                  NaN                    NaN       NaN           NaN   \n",
              "1497                  NaN                    NaN       NaN           NaN   \n",
              "1498                  NaN                    NaN       NaN           NaN   \n",
              "1499                  NaN                    NaN       NaN           NaN   \n",
              "1500                  NaN                    NaN       NaN           NaN   \n",
              "\n",
              "          입지유형명           X좌표           Y좌표          집계구코드    년도        조사구분  \n",
              "0     LCT_TY_NM       XCRD_LC       YCRD_LC       SM_GU_CD  YEAR  EXAMIN_CLS  \n",
              "1           NaN  196423.97707  455511.52968  1101055010007  2015         본조사  \n",
              "2           NaN  196315.80243  455621.38262  1101055020005  2015         본조사  \n",
              "3           NaN  196357.17125   455680.8258  1101055010002  2015         본조사  \n",
              "4           NaN  197904.19277  456718.34996  1101056030002  2015         본조사  \n",
              "...         ...           ...           ...            ...   ...         ...  \n",
              "1496        NaN           NaN           NaN            NaN  2015          북촌  \n",
              "1497        NaN           NaN           NaN            NaN  2015          북촌  \n",
              "1498        NaN           NaN           NaN            NaN  2015          북촌  \n",
              "1499        NaN           NaN           NaN            NaN  2015          북촌  \n",
              "1500        NaN           NaN           NaN            NaN  2015          북촌  \n",
              "\n",
              "[1501 rows x 37 columns]"
            ]
          },
          "metadata": {},
          "execution_count": 39
        }
      ]
    },
    {
      "cell_type": "code",
      "source": [
        "# Make a get request to get the latest position of the international space station from the opennotify api.\n",
        "\n",
        "import requests\n",
        "import pandas as pd\n",
        "\n",
        "response = requests.get(\"http://api.open-notify.org/astros.json\") # request to get \n",
        "info= response.json() # info json \n",
        "\n",
        "people=info['people']\n",
        "print(people)"
      ],
      "metadata": {
        "colab": {
          "base_uri": "https://localhost:8080/"
        },
        "id": "cGeyso73Uh8t",
        "outputId": "dd917fa5-3f82-4c6a-aa3e-01f5a88dedd3"
      },
      "execution_count": 21,
      "outputs": [
        {
          "output_type": "stream",
          "name": "stdout",
          "text": [
            "[{'craft': 'ISS', 'name': 'Mark Vande Hei'}, {'craft': 'ISS', 'name': 'Pyotr Dubrov'}, {'craft': 'ISS', 'name': 'Anton Shkaplerov'}, {'craft': 'Shenzhou 13', 'name': 'Zhai Zhigang'}, {'craft': 'Shenzhou 13', 'name': 'Wang Yaping'}, {'craft': 'Shenzhou 13', 'name': 'Ye Guangfu'}, {'craft': 'ISS', 'name': 'Raja Chari'}, {'craft': 'ISS', 'name': 'Tom Marshburn'}, {'craft': 'ISS', 'name': 'Kayla Barron'}, {'craft': 'ISS', 'name': 'Matthias Maurer'}]\n"
          ]
        }
      ]
    },
    {
      "cell_type": "code",
      "source": [
        "df=pd.DataFrame(people)\n",
        "df"
      ],
      "metadata": {
        "colab": {
          "base_uri": "https://localhost:8080/",
          "height": 362
        },
        "id": "RM4DiFqPVHLT",
        "outputId": "8e6abb23-0861-45ac-b800-11be47b42ae3"
      },
      "execution_count": 22,
      "outputs": [
        {
          "output_type": "execute_result",
          "data": {
            "text/plain": [
              "         craft              name\n",
              "0          ISS    Mark Vande Hei\n",
              "1          ISS      Pyotr Dubrov\n",
              "2          ISS  Anton Shkaplerov\n",
              "3  Shenzhou 13      Zhai Zhigang\n",
              "4  Shenzhou 13       Wang Yaping\n",
              "5  Shenzhou 13        Ye Guangfu\n",
              "6          ISS        Raja Chari\n",
              "7          ISS     Tom Marshburn\n",
              "8          ISS      Kayla Barron\n",
              "9          ISS   Matthias Maurer"
            ],
            "text/html": [
              "\n",
              "  <div id=\"df-468d13a0-9ee0-4141-bec8-a3712900134b\">\n",
              "    <div class=\"colab-df-container\">\n",
              "      <div>\n",
              "<style scoped>\n",
              "    .dataframe tbody tr th:only-of-type {\n",
              "        vertical-align: middle;\n",
              "    }\n",
              "\n",
              "    .dataframe tbody tr th {\n",
              "        vertical-align: top;\n",
              "    }\n",
              "\n",
              "    .dataframe thead th {\n",
              "        text-align: right;\n",
              "    }\n",
              "</style>\n",
              "<table border=\"1\" class=\"dataframe\">\n",
              "  <thead>\n",
              "    <tr style=\"text-align: right;\">\n",
              "      <th></th>\n",
              "      <th>craft</th>\n",
              "      <th>name</th>\n",
              "    </tr>\n",
              "  </thead>\n",
              "  <tbody>\n",
              "    <tr>\n",
              "      <th>0</th>\n",
              "      <td>ISS</td>\n",
              "      <td>Mark Vande Hei</td>\n",
              "    </tr>\n",
              "    <tr>\n",
              "      <th>1</th>\n",
              "      <td>ISS</td>\n",
              "      <td>Pyotr Dubrov</td>\n",
              "    </tr>\n",
              "    <tr>\n",
              "      <th>2</th>\n",
              "      <td>ISS</td>\n",
              "      <td>Anton Shkaplerov</td>\n",
              "    </tr>\n",
              "    <tr>\n",
              "      <th>3</th>\n",
              "      <td>Shenzhou 13</td>\n",
              "      <td>Zhai Zhigang</td>\n",
              "    </tr>\n",
              "    <tr>\n",
              "      <th>4</th>\n",
              "      <td>Shenzhou 13</td>\n",
              "      <td>Wang Yaping</td>\n",
              "    </tr>\n",
              "    <tr>\n",
              "      <th>5</th>\n",
              "      <td>Shenzhou 13</td>\n",
              "      <td>Ye Guangfu</td>\n",
              "    </tr>\n",
              "    <tr>\n",
              "      <th>6</th>\n",
              "      <td>ISS</td>\n",
              "      <td>Raja Chari</td>\n",
              "    </tr>\n",
              "    <tr>\n",
              "      <th>7</th>\n",
              "      <td>ISS</td>\n",
              "      <td>Tom Marshburn</td>\n",
              "    </tr>\n",
              "    <tr>\n",
              "      <th>8</th>\n",
              "      <td>ISS</td>\n",
              "      <td>Kayla Barron</td>\n",
              "    </tr>\n",
              "    <tr>\n",
              "      <th>9</th>\n",
              "      <td>ISS</td>\n",
              "      <td>Matthias Maurer</td>\n",
              "    </tr>\n",
              "  </tbody>\n",
              "</table>\n",
              "</div>\n",
              "      <button class=\"colab-df-convert\" onclick=\"convertToInteractive('df-468d13a0-9ee0-4141-bec8-a3712900134b')\"\n",
              "              title=\"Convert this dataframe to an interactive table.\"\n",
              "              style=\"display:none;\">\n",
              "        \n",
              "  <svg xmlns=\"http://www.w3.org/2000/svg\" height=\"24px\"viewBox=\"0 0 24 24\"\n",
              "       width=\"24px\">\n",
              "    <path d=\"M0 0h24v24H0V0z\" fill=\"none\"/>\n",
              "    <path d=\"M18.56 5.44l.94 2.06.94-2.06 2.06-.94-2.06-.94-.94-2.06-.94 2.06-2.06.94zm-11 1L8.5 8.5l.94-2.06 2.06-.94-2.06-.94L8.5 2.5l-.94 2.06-2.06.94zm10 10l.94 2.06.94-2.06 2.06-.94-2.06-.94-.94-2.06-.94 2.06-2.06.94z\"/><path d=\"M17.41 7.96l-1.37-1.37c-.4-.4-.92-.59-1.43-.59-.52 0-1.04.2-1.43.59L10.3 9.45l-7.72 7.72c-.78.78-.78 2.05 0 2.83L4 21.41c.39.39.9.59 1.41.59.51 0 1.02-.2 1.41-.59l7.78-7.78 2.81-2.81c.8-.78.8-2.07 0-2.86zM5.41 20L4 18.59l7.72-7.72 1.47 1.35L5.41 20z\"/>\n",
              "  </svg>\n",
              "      </button>\n",
              "      \n",
              "  <style>\n",
              "    .colab-df-container {\n",
              "      display:flex;\n",
              "      flex-wrap:wrap;\n",
              "      gap: 12px;\n",
              "    }\n",
              "\n",
              "    .colab-df-convert {\n",
              "      background-color: #E8F0FE;\n",
              "      border: none;\n",
              "      border-radius: 50%;\n",
              "      cursor: pointer;\n",
              "      display: none;\n",
              "      fill: #1967D2;\n",
              "      height: 32px;\n",
              "      padding: 0 0 0 0;\n",
              "      width: 32px;\n",
              "    }\n",
              "\n",
              "    .colab-df-convert:hover {\n",
              "      background-color: #E2EBFA;\n",
              "      box-shadow: 0px 1px 2px rgba(60, 64, 67, 0.3), 0px 1px 3px 1px rgba(60, 64, 67, 0.15);\n",
              "      fill: #174EA6;\n",
              "    }\n",
              "\n",
              "    [theme=dark] .colab-df-convert {\n",
              "      background-color: #3B4455;\n",
              "      fill: #D2E3FC;\n",
              "    }\n",
              "\n",
              "    [theme=dark] .colab-df-convert:hover {\n",
              "      background-color: #434B5C;\n",
              "      box-shadow: 0px 1px 3px 1px rgba(0, 0, 0, 0.15);\n",
              "      filter: drop-shadow(0px 1px 2px rgba(0, 0, 0, 0.3));\n",
              "      fill: #FFFFFF;\n",
              "    }\n",
              "  </style>\n",
              "\n",
              "      <script>\n",
              "        const buttonEl =\n",
              "          document.querySelector('#df-468d13a0-9ee0-4141-bec8-a3712900134b button.colab-df-convert');\n",
              "        buttonEl.style.display =\n",
              "          google.colab.kernel.accessAllowed ? 'block' : 'none';\n",
              "\n",
              "        async function convertToInteractive(key) {\n",
              "          const element = document.querySelector('#df-468d13a0-9ee0-4141-bec8-a3712900134b');\n",
              "          const dataTable =\n",
              "            await google.colab.kernel.invokeFunction('convertToInteractive',\n",
              "                                                     [key], {});\n",
              "          if (!dataTable) return;\n",
              "\n",
              "          const docLinkHtml = 'Like what you see? Visit the ' +\n",
              "            '<a target=\"_blank\" href=https://colab.research.google.com/notebooks/data_table.ipynb>data table notebook</a>'\n",
              "            + ' to learn more about interactive tables.';\n",
              "          element.innerHTML = '';\n",
              "          dataTable['output_type'] = 'display_data';\n",
              "          await google.colab.output.renderOutput(dataTable, element);\n",
              "          const docLink = document.createElement('div');\n",
              "          docLink.innerHTML = docLinkHtml;\n",
              "          element.appendChild(docLink);\n",
              "        }\n",
              "      </script>\n",
              "    </div>\n",
              "  </div>\n",
              "  "
            ]
          },
          "metadata": {},
          "execution_count": 22
        }
      ]
    },
    {
      "cell_type": "code",
      "source": [
        "info.keys()"
      ],
      "metadata": {
        "id": "XdjFpgewXU_0",
        "colab": {
          "base_uri": "https://localhost:8080/"
        },
        "outputId": "bb77c046-0113-4d90-caa5-63601c743318"
      },
      "execution_count": 24,
      "outputs": [
        {
          "output_type": "execute_result",
          "data": {
            "text/plain": [
              "dict_keys(['people', 'message', 'number'])"
            ]
          },
          "metadata": {},
          "execution_count": 24
        }
      ]
    }
  ]
}