{
  "nbformat": 4,
  "nbformat_minor": 0,
  "metadata": {
    "colab": {
      "name": "Lab03_answer.ipynb",
      "provenance": [],
      "collapsed_sections": [],
      "toc_visible": true
    },
    "kernelspec": {
      "name": "python3",
      "display_name": "Python 3"
    },
    "language_info": {
      "name": "python"
    }
  },
  "cells": [
    {
      "cell_type": "markdown",
      "source": [
        "# 💻IDS507 | Lab03\n",
        "<font size=5><b>Regression Analysis<b></font>\n",
        "<div align='right'>TA: 류 회 성(Hoe Sung Ryu)</div>\n",
        "\n",
        "## Concepts | 오늘 배울 개념\n",
        "---\n",
        "- 내 데이터를 train/test dataset으로 나누기\n",
        "- 내 데이터로 `Logistic regression` (로지스틱 회귀) 모델 만들어보기\n",
        "- 생성한 모델을 이용해 새로운 데이터를 예측해보기\n",
        "- 내 모델이 얼마나 잘 기능하는가?\n",
        "- Confusion Matrix, Roc Curve & AUC 계산\n"
      ],
      "metadata": {
        "id": "C2b2ajYEkj0d"
      }
    },
    {
      "cell_type": "markdown",
      "source": [
        "## 📌1.드라이브 연동"
      ],
      "metadata": {
        "id": "OZDN4O9e6DKt"
      }
    },
    {
      "cell_type": "code",
      "source": [
        "from google.colab import drive # 드라이브 연동\n",
        "drive.mount('/content/gdrive')"
      ],
      "metadata": {
        "id": "i3mwWyA3pNeJ",
        "colab": {
          "base_uri": "https://localhost:8080/"
        },
        "outputId": "e29beb4e-599e-4086-ca3c-3b04a8036eb7"
      },
      "execution_count": null,
      "outputs": [
        {
          "output_type": "stream",
          "name": "stdout",
          "text": [
            "Mounted at /content/gdrive\n"
          ]
        }
      ]
    },
    {
      "cell_type": "code",
      "source": [
        "import os\n",
        "os.chdir('/content/gdrive/My Drive/IDS507-00/2022_IDS507_Lab') # DataPath 설정 "
      ],
      "metadata": {
        "id": "_1wmDt_g6Fcd"
      },
      "execution_count": null,
      "outputs": []
    },
    {
      "cell_type": "code",
      "source": [
        "!pwd"
      ],
      "metadata": {
        "colab": {
          "base_uri": "https://localhost:8080/"
        },
        "id": "BnaeTl_y6GTS",
        "outputId": "287b016b-0ff2-4079-e396-d5f592763c07"
      },
      "execution_count": null,
      "outputs": [
        {
          "output_type": "stream",
          "name": "stdout",
          "text": [
            "/content/gdrive/My Drive/IDS507-00/2022_IDS507_Lab\n"
          ]
        }
      ]
    },
    {
      "cell_type": "markdown",
      "source": [
        "## 📌2. 회귀 분석\n"
      ],
      "metadata": {
        "id": "TPfQwb256Hty"
      }
    },
    {
      "cell_type": "markdown",
      "source": [
        "\n",
        "### 1) 회귀(Regression)\n",
        "- 데이터의 값은 평균과 같은 기존의 경향으로 돌아가려는 경향\n",
        "- 여러 변수들 간의 상관 관계를 파악하여, 어떤 특정 변수의 값을 다른 변수들의 값을 이용하여 설명/예측하는 기법\n",
        "- 독립변수, 종속변수\n"
      ],
      "metadata": {
        "id": "eTCnBfF6xjKz"
      }
    },
    {
      "cell_type": "markdown",
      "source": [
        "\n",
        "### 2) 회귀 분석의 유형\n",
        "- 변수의 개수 및 계수의 형태에 따라 구분\n",
        "- 독립변수의 개수에 따라\n",
        "    - 단순 : 독립변수가 1개인 경우\n",
        "    - 다중 : 독립변수가 여러 개인 경우\n",
        "- 회귀계수의 형태에 따라\n",
        "    - 선형 : 계수를 선형 결합으로 표현할 수 있는 경우\n",
        "    - 비선형 : 계수를 선형 결합으로 표현할 수 없는 경우\n",
        "    \n",
        "    "
      ],
      "metadata": {
        "id": "OrQzILOXxkyR"
      }
    },
    {
      "cell_type": "code",
      "source": [
        "# sample data \n",
        "# 1. train \n",
        "X_train = [[1],[2],[3],[4],[5]] # 독립변수의 특성이 1개 밖에 없더라도 각 값들은 리스트 또는 배열의 형태\n",
        "y_train = [2.3, 3.99, 5.15, 7.89, 8.6]\n",
        "\n",
        "# 2. test\n",
        "X_test = [[6],[7]]\n",
        "y_test = [10.1, 11.9]"
      ],
      "metadata": {
        "id": "ovP7n4z_6R66"
      },
      "execution_count": null,
      "outputs": []
    },
    {
      "cell_type": "code",
      "source": [
        "from sklearn.linear_model import LinearRegression\n",
        "lr = LinearRegression()\n",
        "\n",
        "reg = lr.fit(X_train,y_train)"
      ],
      "metadata": {
        "id": "yi3USSP22rVJ"
      },
      "execution_count": null,
      "outputs": []
    },
    {
      "cell_type": "markdown",
      "source": [
        "### 3) 단순 선형 회귀\n",
        "- 독립변수가 1개이고 종속변수도 1개인 경우, 그들 간의 관계를 **선형적으로 파악**하는 회귀 방식\n",
        "- `독립변수 X`와 `종속변수 Y`의 **`관계`**를 **`Y = aX + b 형태의 1차 함수식`**으로 표현\n"
      ],
      "metadata": {
        "id": "ZnUtQ4rj6vIu"
      }
    },
    {
      "cell_type": "markdown",
      "source": [
        "\n",
        "#### 회귀 계수 (coefficient) → y = **`a`**x+b\n",
        "- 독립변수가 종속변수에 끼치는 영향력의 정도로서, 직선의 기울기(slope)\n"
      ],
      "metadata": {
        "id": "AdADYBSLxviC"
      }
    },
    {
      "cell_type": "markdown",
      "source": [
        "\n",
        "#### 절편 (intercept) → y = ax+**`b`**\n",
        "- 독립변수가 0일 때의 상수 값\n"
      ],
      "metadata": {
        "id": "E6erQ0WWxwj1"
      }
    },
    {
      "cell_type": "markdown",
      "source": [
        "\n",
        "#### 잔차 (residual) → y = ax+b+**`Error`**\n",
        "- 실제 값과 회귀식의 차이에 따른 오류 값\n",
        "- 잔차 값이 작을수록, 구해진 회귀식이 데이터들을 더욱 잘 설명하고 있다"
      ],
      "metadata": {
        "id": "tLATOl8JxyD3"
      }
    },
    {
      "cell_type": "code",
      "source": [
        "y_pred = reg.predict(X_test)\n",
        "y_pred"
      ],
      "metadata": {
        "colab": {
          "base_uri": "https://localhost:8080/"
        },
        "id": "QiGjSlKi21Yr",
        "outputId": "a5227f19-7d55-4e8a-ffdd-8e01e0df4d21"
      },
      "execution_count": null,
      "outputs": [
        {
          "output_type": "execute_result",
          "data": {
            "text/plain": [
              "array([10.536, 12.186])"
            ]
          },
          "metadata": {},
          "execution_count": 6
        }
      ]
    },
    {
      "cell_type": "code",
      "source": [
        "# 추정된 회귀 모형의 회귀 계수 및 절편 값을 확인\n",
        "# 회귀 계수는 coef_ 속성, 절편은 intercept_ 속성에 각각 값이 할당\n",
        "print(\"회귀 계수 : \",reg.coef_)\n",
        "print(\"절편 : \",reg.intercept_)\n",
        "print(f'선형식:y= {reg.coef_[0]}X + {reg.intercept_:.4f}')"
      ],
      "metadata": {
        "colab": {
          "base_uri": "https://localhost:8080/"
        },
        "id": "wXHTCX4M6S6e",
        "outputId": "b84dbc01-4b44-4168-9df0-d28d198e381b"
      },
      "execution_count": null,
      "outputs": [
        {
          "output_type": "stream",
          "name": "stdout",
          "text": [
            "회귀 계수 :  [1.65]\n",
            "절편 :  0.636000000000001\n",
            "선형식:y= 1.65X + 0.6360\n"
          ]
        }
      ]
    },
    {
      "cell_type": "markdown",
      "source": [
        "### 4) 사이킷런으로 성능 평가 지표 확인\n",
        "\n",
        "- 회귀 분석의 평가 지표\n",
        "\n",
        "|지표|의미|대응함수|\n",
        "|---|---|---|\n",
        "|MAE|Mean Absolute Error, 즉 실제값과 예측값의 차이의 절대값들의 평균|metrics 모듈의 mean_absolute_error|\n",
        "|MSE|Mean Absolute Error, 즉 실제값과 예측값의 차이의 절대값들의 평균|metrics 모듈의 mean_squared_error|\n",
        "|RMSE|Root of MSE, 즉 MSE의 제곱근 값|math 또는 numpy 모듈의 sqrt|\n",
        "|$R^2$|결정 계수라고 하며, 실제값의 분산 대비 예측값의 분산의 비율|metrics 모듈의 r2_score 또는 LinearRegression의 score|\n",
        "\n"
      ],
      "metadata": {
        "id": "SYOu9nO35p5d"
      }
    },
    {
      "cell_type": "code",
      "source": [
        "# 결과분석\n",
        "from sklearn.metrics import (mean_squared_error,\n",
        "                             r2_score,\n",
        "                             mean_absolute_error,\n",
        ")\n",
        "print(mean_squared_error(y_test, y_pred))\n",
        "print(r2_score(y_test, y_pred))\n",
        "print(mean_absolute_error(y_test, y_pred))\n",
        "print(mean_absolute_error(y_test, y_pred)**(1/2))\n"
      ],
      "metadata": {
        "colab": {
          "base_uri": "https://localhost:8080/"
        },
        "id": "xAsTmWn92594",
        "outputId": "5a4e0684-cfbe-44e0-a96e-987727311231"
      },
      "execution_count": null,
      "outputs": [
        {
          "output_type": "stream",
          "name": "stdout",
          "text": [
            "0.13594599999999984\n",
            "0.8321654320987657\n",
            "0.36099999999999977\n",
            "0.6008327554319919\n"
          ]
        }
      ]
    },
    {
      "cell_type": "code",
      "source": [
        "# 분석 결과 표로 표시하기 \n",
        "import matplotlib.pyplot as plt\n",
        "x = range(1,8)\n",
        "plt.title(\"Linear Regression\")\n",
        "plt.plot(X_train+X_test,y_train+y_test,'o',color = 'blue')\n",
        "plt.plot(x,reg.coef_*x+reg.intercept_,'--',color='red')\n",
        "plt.plot(X_test,y_pred,'x',color = 'black')\n",
        "plt.show()"
      ],
      "metadata": {
        "colab": {
          "base_uri": "https://localhost:8080/",
          "height": 281
        },
        "id": "WoUpNJm226AF",
        "outputId": "d40abf36-3bc7-43cc-d07e-7f76ad3f2d42"
      },
      "execution_count": null,
      "outputs": [
        {
          "output_type": "display_data",
          "data": {
            "image/png": "[encoded data removed]",
            "text/plain": [
              "<Figure size 432x288 with 1 Axes>"
            ]
          },
          "metadata": {
            "needs_background": "light"
          }
        }
      ]
    },
    {
      "cell_type": "markdown",
      "source": [
        "## 📌3. 실제 데이터를 활용하여 로지스틱회귀 분석\n"
      ],
      "metadata": {
        "id": "BDt3Jm4s3zy6"
      }
    },
    {
      "cell_type": "markdown",
      "source": [
        "\n",
        "### 1) 로지스틱 회귀란? \n",
        "- 선형 회귀 모형을 **`분류`** 에 적용한 기법\n",
        "- 데이터가 특정 레이블(클래스)에 소속될 확률을 추정\n",
        "    - 이 이메일이 스팸일 확률은 얼마\n",
        "    - 이번 시험에서 합격할 확률은 얼마\n",
        "- 다른 선형 회귀 모형과는 다르게, 종속변수가 수치형 (numerical)이 아니라 범주형(categorical)\n",
        "    - 스팸메일, 정상메일\n",
        "    - 합격, 불합격\n",
        "- 특정 클래스에 대해서 추정된 확률이 50% 이상이면 해당 데이터를 그 클래스에 속하는 것으로 분류\n",
        "- 기본적인 로지스틱 회귀는 이항형(binomial)으로서, 종속 변수의 값의 종류는 0과 1의 두 종류\n",
        "    - 즉, 이 경우의 종속변수는 곧 클래스 그 자체\n",
        "    - 값이 0이면 음성, 1이면 양성이라고 표현\n",
        "- 이러한 이진 데이터에 대해서 올바른 결과를 나타내는 선형 회귀를 수행하려면 다음과 같은 성질이 필요\n",
        "    - 연속적인 단조 증가(monotone increasing) 함수일 것\n",
        "    - 함수의 결과가 [0, 1] 사이의 값\n",
        "- 이와 같은 성질을 만족하는 함수를 시그모이드(sigmoid) 함수\n",
        "\n",
        "$$ y = \\frac{1}{1+e^{-x}} $$\n"
      ],
      "metadata": {
        "id": "ibbmvsHIx8Xn"
      }
    },
    {
      "cell_type": "markdown",
      "source": [
        "\n",
        "### 2) 분류함수의 성능지표\n",
        "\n",
        "|함수명|설명|\n",
        "|---|---|\n",
        "|**accuracy_score**|정확도를 계산한다.|\n",
        "|**confusion_matrix** |오차 행렬을 도출한다.|\n",
        "|**precision_score** |정밀도를 계산한다.|\n",
        "|**recall_score** |재현율을 계산한다.|\n",
        "|**f1_score** |F1 스코어를 계산한다.|\n",
        "|**classification_report** | 정밀도, 재현율, F1 스코어를 함께 보여준다|"
      ],
      "metadata": {
        "id": "yWknP_tRyCZV"
      }
    },
    {
      "cell_type": "code",
      "source": [
        "import numpy as np\n",
        "import matplotlib as mpl\n",
        "import matplotlib.pyplot as plt\n",
        "\n",
        "X = np.arange(-10,10,0.1)\n",
        "y = 1 / (1+np.exp(-X))\n",
        "plt.plot(X,y,label = 'Sigmoid')\n",
        "plt.plot(X,[0.5 for _ in X],color='red',label = 'Threshold')\n",
        "plt.legend()\n",
        "plt.grid()\n",
        "plt.show()"
      ],
      "metadata": {
        "colab": {
          "base_uri": "https://localhost:8080/",
          "height": 265
        },
        "id": "rKDA787c3zYs",
        "outputId": "6e8f9cb3-8082-4363-f925-805710f29711"
      },
      "execution_count": null,
      "outputs": [
        {
          "output_type": "display_data",
          "data": {
            "image/png": "[encoded data removed]",
            "text/plain": [
              "<Figure size 432x288 with 1 Axes>"
            ]
          },
          "metadata": {
            "needs_background": "light"
          }
        }
      ]
    },
    {
      "cell_type": "markdown",
      "source": [
        "### 3) 당뇨병 데이터 불러오기\n",
        "reference:https://www.kaggle.com/saurabh00007/diabetescsv\n",
        "* Pregnancies: 임신 횟수\n",
        "* Glucose: 포도당 부하 검사 수치\n",
        "* BloodPressure: 혈압(mm Hg)\n",
        "* SkinThickness: 팔 삼두근 뒤쪽의 피하지방 측정값(mm)\n",
        "* Insulin: 혈청 인슐린(mu U/ml)\n",
        "* BMI: 체질량지수(체중(kg)/(키(m))^2)\n",
        "* DiabetesPedigreeFunction: 당뇨 내력 가중치 값\n",
        "* Age: 나이\n",
        "* Outcome: 클래스 결정 값(0또는 1)\n"
      ],
      "metadata": {
        "id": "8h2i3vyW-uaK"
      }
    },
    {
      "cell_type": "code",
      "source": [
        "import numpy as np\n",
        "import pandas as pd\n",
        "import matplotlib.pyplot as plt\n",
        "%matplotlib inline\n",
        "\n",
        "from sklearn.model_selection import train_test_split\n",
        "from sklearn.metrics import accuracy_score, precision_score, recall_score, roc_auc_score\n",
        "from sklearn.metrics import f1_score, confusion_matrix, precision_recall_curve, roc_curve\n",
        "from sklearn.preprocessing import StandardScaler,MinMaxScaler\n",
        "from sklearn.linear_model import LogisticRegression\n",
        "\n",
        "diabetes_data = pd.read_csv('./data/diabetes.csv') # 데이터 로드\n",
        "diabetes_data.head(3)"
      ],
      "metadata": {
        "colab": {
          "base_uri": "https://localhost:8080/",
          "height": 143
        },
        "id": "b8OG_MUx-kKq",
        "outputId": "6a4d7c07-777c-44bc-d2a0-4b1f600125e4"
      },
      "execution_count": null,
      "outputs": [
        {
          "output_type": "execute_result",
          "data": {
            "text/html": [
              "\n",
              "  <div id=\"df-fed9b06f-b4e0-4271-8608-3c319ec7f33d\">\n",
              "    <div class=\"colab-df-container\">\n",
              "      <div>\n",
              "<style scoped>\n",
              "    .dataframe tbody tr th:only-of-type {\n",
              "        vertical-align: middle;\n",
              "    }\n",
              "\n",
              "    .dataframe tbody tr th {\n",
              "        vertical-align: top;\n",
              "    }\n",
              "\n",
              "    .dataframe thead th {\n",
              "        text-align: right;\n",
              "    }\n",
              "</style>\n",
              "<table border=\"1\" class=\"dataframe\">\n",
              "  <thead>\n",
              "    <tr style=\"text-align: right;\">\n",
              "      <th></th>\n",
              "      <th>Pregnancies</th>\n",
              "      <th>Glucose</th>\n",
              "      <th>BloodPressure</th>\n",
              "      <th>SkinThickness</th>\n",
              "      <th>Insulin</th>\n",
              "      <th>BMI</th>\n",
              "      <th>DiabetesPedigreeFunction</th>\n",
              "      <th>Age</th>\n",
              "      <th>Outcome</th>\n",
              "    </tr>\n",
              "  </thead>\n",
              "  <tbody>\n",
              "    <tr>\n",
              "      <th>0</th>\n",
              "      <td>6</td>\n",
              "      <td>148</td>\n",
              "      <td>72</td>\n",
              "      <td>35</td>\n",
              "      <td>0</td>\n",
              "      <td>33.6</td>\n",
              "      <td>0.627</td>\n",
              "      <td>50</td>\n",
              "      <td>1</td>\n",
              "    </tr>\n",
              "    <tr>\n",
              "      <th>1</th>\n",
              "      <td>1</td>\n",
              "      <td>85</td>\n",
              "      <td>66</td>\n",
              "      <td>29</td>\n",
              "      <td>0</td>\n",
              "      <td>26.6</td>\n",
              "      <td>0.351</td>\n",
              "      <td>31</td>\n",
              "      <td>0</td>\n",
              "    </tr>\n",
              "    <tr>\n",
              "      <th>2</th>\n",
              "      <td>8</td>\n",
              "      <td>183</td>\n",
              "      <td>64</td>\n",
              "      <td>0</td>\n",
              "      <td>0</td>\n",
              "      <td>23.3</td>\n",
              "      <td>0.672</td>\n",
              "      <td>32</td>\n",
              "      <td>1</td>\n",
              "    </tr>\n",
              "  </tbody>\n",
              "</table>\n",
              "</div>\n",
              "      <button class=\"colab-df-convert\" onclick=\"convertToInteractive('df-fed9b06f-b4e0-4271-8608-3c319ec7f33d')\"\n",
              "              title=\"Convert this dataframe to an interactive table.\"\n",
              "              style=\"display:none;\">\n",
              "        \n",
              "  <svg xmlns=\"http://www.w3.org/2000/svg\" height=\"24px\"viewBox=\"0 0 24 24\"\n",
              "       width=\"24px\">\n",
              "    <path d=\"M0 0h24v24H0V0z\" fill=\"none\"/>\n",
              "    <path d=\"M18.56 5.44l.94 2.06.94-2.06 2.06-.94-2.06-.94-.94-2.06-.94 2.06-2.06.94zm-11 1L8.5 8.5l.94-2.06 2.06-.94-2.06-.94L8.5 2.5l-.94 2.06-2.06.94zm10 10l.94 2.06.94-2.06 2.06-.94-2.06-.94-.94-2.06-.94 2.06-2.06.94z\"/><path d=\"M17.41 7.96l-1.37-1.37c-.4-.4-.92-.59-1.43-.59-.52 0-1.04.2-1.43.59L10.3 9.45l-7.72 7.72c-.78.78-.78 2.05 0 2.83L4 21.41c.39.39.9.59 1.41.59.51 0 1.02-.2 1.41-.59l7.78-7.78 2.81-2.81c.8-.78.8-2.07 0-2.86zM5.41 20L4 18.59l7.72-7.72 1.47 1.35L5.41 20z\"/>\n",
              "  </svg>\n",
              "      </button>\n",
              "      \n",
              "  <style>\n",
              "    .colab-df-container {\n",
              "      display:flex;\n",
              "      flex-wrap:wrap;\n",
              "      gap: 12px;\n",
              "    }\n",
              "\n",
              "    .colab-df-convert {\n",
              "      background-color: #E8F0FE;\n",
              "      border: none;\n",
              "      border-radius: 50%;\n",
              "      cursor: pointer;\n",
              "      display: none;\n",
              "      fill: #1967D2;\n",
              "      height: 32px;\n",
              "      padding: 0 0 0 0;\n",
              "      width: 32px;\n",
              "    }\n",
              "\n",
              "    .colab-df-convert:hover {\n",
              "      background-color: #E2EBFA;\n",
              "      box-shadow: 0px 1px 2px rgba(60, 64, 67, 0.3), 0px 1px 3px 1px rgba(60, 64, 67, 0.15);\n",
              "      fill: #174EA6;\n",
              "    }\n",
              "\n",
              "    [theme=dark] .colab-df-convert {\n",
              "      background-color: #3B4455;\n",
              "      fill: #D2E3FC;\n",
              "    }\n",
              "\n",
              "    [theme=dark] .colab-df-convert:hover {\n",
              "      background-color: #434B5C;\n",
              "      box-shadow: 0px 1px 3px 1px rgba(0, 0, 0, 0.15);\n",
              "      filter: drop-shadow(0px 1px 2px rgba(0, 0, 0, 0.3));\n",
              "      fill: #FFFFFF;\n",
              "    }\n",
              "  </style>\n",
              "\n",
              "      <script>\n",
              "        const buttonEl =\n",
              "          document.querySelector('#df-fed9b06f-b4e0-4271-8608-3c319ec7f33d button.colab-df-convert');\n",
              "        buttonEl.style.display =\n",
              "          google.colab.kernel.accessAllowed ? 'block' : 'none';\n",
              "\n",
              "        async function convertToInteractive(key) {\n",
              "          const element = document.querySelector('#df-fed9b06f-b4e0-4271-8608-3c319ec7f33d');\n",
              "          const dataTable =\n",
              "            await google.colab.kernel.invokeFunction('convertToInteractive',\n",
              "                                                     [key], {});\n",
              "          if (!dataTable) return;\n",
              "\n",
              "          const docLinkHtml = 'Like what you see? Visit the ' +\n",
              "            '<a target=\"_blank\" href=https://colab.research.google.com/notebooks/data_table.ipynb>data table notebook</a>'\n",
              "            + ' to learn more about interactive tables.';\n",
              "          element.innerHTML = '';\n",
              "          dataTable['output_type'] = 'display_data';\n",
              "          await google.colab.output.renderOutput(dataTable, element);\n",
              "          const docLink = document.createElement('div');\n",
              "          docLink.innerHTML = docLinkHtml;\n",
              "          element.appendChild(docLink);\n",
              "        }\n",
              "      </script>\n",
              "    </div>\n",
              "  </div>\n",
              "  "
            ],
            "text/plain": [
              "   Pregnancies  Glucose  BloodPressure  SkinThickness  Insulin   BMI  \\\n",
              "0            6      148             72             35        0  33.6   \n",
              "1            1       85             66             29        0  26.6   \n",
              "2            8      183             64              0        0  23.3   \n",
              "\n",
              "   DiabetesPedigreeFunction  Age  Outcome  \n",
              "0                     0.627   50        1  \n",
              "1                     0.351   31        0  \n",
              "2                     0.672   32        1  "
            ]
          },
          "metadata": {},
          "execution_count": 11
        }
      ]
    },
    {
      "cell_type": "code",
      "source": [
        "print(diabetes_data['Outcome'].value_counts())"
      ],
      "metadata": {
        "colab": {
          "base_uri": "https://localhost:8080/"
        },
        "id": "HWkhFXP8-kNa",
        "outputId": "51fcf17b-93d6-4450-82e1-7cbc891edfce"
      },
      "execution_count": null,
      "outputs": [
        {
          "output_type": "stream",
          "name": "stdout",
          "text": [
            "0    500\n",
            "1    268\n",
            "Name: Outcome, dtype: int64\n"
          ]
        }
      ]
    },
    {
      "cell_type": "code",
      "source": [
        "# 'Glucose' 피처의 분포도\n",
        "plt.hist(diabetes_data['Glucose'], bins=10)"
      ],
      "metadata": {
        "colab": {
          "base_uri": "https://localhost:8080/",
          "height": 335
        },
        "id": "80apZ7boHjOU",
        "outputId": "a61ef614-1168-4eac-9a5b-c805be62c4a5"
      },
      "execution_count": null,
      "outputs": [
        {
          "output_type": "execute_result",
          "data": {
            "text/plain": [
              "(array([  5.,   0.,   4.,  32., 156., 211., 163.,  95.,  56.,  46.]),\n",
              " array([  0. ,  19.9,  39.8,  59.7,  79.6,  99.5, 119.4, 139.3, 159.2,\n",
              "        179.1, 199. ]),\n",
              " <a list of 10 Patch objects>)"
            ]
          },
          "metadata": {},
          "execution_count": 13
        },
        {
          "output_type": "display_data",
          "data": {
            "image/png": "[encoded data removed]",
            "text/plain": [
              "<Figure size 432x288 with 1 Axes>"
            ]
          },
          "metadata": {
            "needs_background": "light"
          }
        }
      ]
    },
    {
      "cell_type": "markdown",
      "source": [
        "### 4) scikit-learn 패키지를 사용하여 Train / Test 셋 분리하기\n",
        "\n",
        "parameter 설명\n",
        "\n",
        "- `train_test_split(arrays, test_size, train_size, random_state, shuffle, stratify)`의 인자(parameter)\n",
        "```\n",
        "arrays : 분할시킬 데이터를 입력 (Python list, Numpy array, Pandas dataframe 등..)\n",
        "test_size : 테스트 데이터셋의 비율(float)이나 갯수(int) (default = 0.25)\n",
        "train_size : 학습 데이터셋의 비율(float)이나 갯수(int) (default = test_size의 나머지)\n",
        "random_state : 데이터 분할시 셔플이 이루어지는데 이를 기억하기 위한 임의의 시드값 (int나 RandomState로 입력)\n",
        "shuffle : 셔플여부설정 (default = True)\n",
        "stratify : 지정한 Data의 비율을 유지한다. 예를 들어, Label Set인 Y가 25%의 0과 75%의 1로 이루어진 Binary Set일 때,\n",
        "            stratify=Y로 설정하면 나누어진 데이터셋들도 0과 1을 각각 25%, 75%로 유지한 채 분할된다.\n",
        "```\n"
      ],
      "metadata": {
        "id": "QgwmQDhSHGFt"
      }
    },
    {
      "cell_type": "code",
      "source": [
        "# 피처 데이터 세트 X, 레이블 데이터 세트 y를 추출. \n",
        "X = diabetes_data.iloc[:, :-1]\n",
        "y = diabetes_data.iloc[:, -1]\n",
        "\n",
        "X_train, X_test, y_train, y_test = train_test_split(X, y, test_size = 0.2, random_state = 156, stratify=y)"
      ],
      "metadata": {
        "id": "HeBhLwky-kUC"
      },
      "execution_count": null,
      "outputs": []
    },
    {
      "cell_type": "code",
      "source": [
        "# 로지스틱 회귀로 학습,예측 및 평가 수행. \n",
        "\n",
        "lr_clf = LogisticRegression(max_iter=1000,)\n",
        "lr_clf.fit(X_train , y_train)\n",
        "y_pred = lr_clf.predict(X_test)"
      ],
      "metadata": {
        "id": "dIAch_9bHXlM"
      },
      "execution_count": null,
      "outputs": []
    },
    {
      "cell_type": "code",
      "source": [
        "y_pred"
      ],
      "metadata": {
        "colab": {
          "base_uri": "https://localhost:8080/"
        },
        "id": "hzwOIBOuYDME",
        "outputId": "68a732c4-5021-437b-e924-54b496781b27"
      },
      "execution_count": null,
      "outputs": [
        {
          "output_type": "execute_result",
          "data": {
            "text/plain": [
              "array([0, 0, 0, 1, 0, 1, 1, 0, 0, 0, 1, 0, 0, 0, 0, 0, 1, 0, 0, 1, 0, 0,\n",
              "       0, 0, 0, 0, 1, 1, 0, 1, 0, 0, 0, 0, 0, 1, 0, 0, 1, 1, 0, 0, 1, 0,\n",
              "       0, 0, 1, 0, 1, 0, 0, 1, 1, 0, 0, 0, 0, 0, 0, 0, 0, 1, 0, 1, 0, 0,\n",
              "       0, 1, 0, 1, 0, 0, 0, 0, 1, 0, 0, 0, 0, 0, 0, 0, 1, 0, 0, 0, 1, 1,\n",
              "       0, 0, 0, 0, 1, 0, 0, 1, 0, 0, 0, 1, 1, 0, 0, 0, 0, 0, 0, 0, 0, 0,\n",
              "       1, 1, 0, 0, 0, 0, 1, 0, 0, 1, 1, 0, 1, 1, 0, 0, 0, 0, 0, 0, 0, 0,\n",
              "       0, 0, 0, 1, 1, 1, 0, 0, 0, 0, 1, 0, 1, 0, 0, 0, 1, 0, 0, 0, 1, 0])"
            ]
          },
          "metadata": {},
          "execution_count": 53
        }
      ]
    },
    {
      "cell_type": "code",
      "source": [
        "accuracy = accuracy_score(y_test , y_pred)\n",
        "print(\"Accuracy : \",round(accuracy,76))"
      ],
      "metadata": {
        "colab": {
          "base_uri": "https://localhost:8080/"
        },
        "id": "xF3zIABqHXoI",
        "outputId": "8659a93f-afff-4213-a3f6-7295eadb7b1c"
      },
      "execution_count": null,
      "outputs": [
        {
          "output_type": "stream",
          "name": "stdout",
          "text": [
            "Accuracy :  0.7987012987012987\n"
          ]
        }
      ]
    },
    {
      "cell_type": "code",
      "source": [
        "print(500/diabetes_data['Outcome'].value_counts().sum())"
      ],
      "metadata": {
        "colab": {
          "base_uri": "https://localhost:8080/"
        },
        "id": "DstggBuIIH2z",
        "outputId": "a1ad1c79-22bf-47c5-cfd2-f919adb8d07e"
      },
      "execution_count": null,
      "outputs": [
        {
          "output_type": "stream",
          "name": "stdout",
          "text": [
            "0.6510416666666666\n"
          ]
        }
      ]
    },
    {
      "cell_type": "markdown",
      "source": [
        "### 5) Confusion Matrix(오차행렬)\n"
      ],
      "metadata": {
        "id": "oPZHrtlVbl2U"
      }
    },
    {
      "cell_type": "code",
      "source": [
        "# #calculate AUC of model\n",
        "# pred_proba = lr_clf.predict_proba(X_test)\n",
        "# pred_proba_c1 = pred_proba[:,1].reshape(-1,1)\n",
        "# auc = roc_auc_score(y_test, pred_proba_c1)\n",
        "\n",
        "# #print AUC score\n",
        "# print(auc)"
      ],
      "metadata": {
        "id": "YTmj0G4EcxZd"
      },
      "execution_count": null,
      "outputs": []
    },
    {
      "cell_type": "code",
      "source": [
        "roc_auc = roc_auc_score(y_test, pred_proba[:,1]) # calculate AUC of model\n",
        "confusion = confusion_matrix( y_test, y_pred)\n",
        "print('AUC score:', roc_auc)\n",
        "print('오차 행렬')\n",
        "print(confusion)"
      ],
      "metadata": {
        "colab": {
          "base_uri": "https://localhost:8080/"
        },
        "id": "LcnjOE52bCSh",
        "outputId": "53530fc4-9c28-4cc3-9c73-e28d30c60c5a"
      },
      "execution_count": null,
      "outputs": [
        {
          "output_type": "stream",
          "name": "stdout",
          "text": [
            "AUC score: 0.8072222222222222\n",
            "오차 행렬\n",
            "[[90 10]\n",
            " [21 33]]\n"
          ]
        }
      ]
    },
    {
      "cell_type": "code",
      "source": [
        "import pandas as pd \n",
        "import seaborn as sns \n",
        "matrix = pd.DataFrame(confusion,\n",
        "                     columns = ['Positive','Negative'],\n",
        "                     index= ['True','False']\n",
        "                     )\n",
        "sns.heatmap(matrix, annot=True, cmap='Blues', fmt='d')"
      ],
      "metadata": {
        "colab": {
          "base_uri": "https://localhost:8080/",
          "height": 286
        },
        "id": "qqCpQIY7bcSR",
        "outputId": "ea0a5586-bbcd-4c48-edff-6cb638620a78"
      },
      "execution_count": null,
      "outputs": [
        {
          "output_type": "execute_result",
          "data": {
            "text/plain": [
              "<matplotlib.axes._subplots.AxesSubplot at 0x7f71b2f3f2d0>"
            ]
          },
          "metadata": {},
          "execution_count": 58
        },
        {
          "output_type": "display_data",
          "data": {
            "image/png": "[encoded data removed]",
            "text/plain": [
              "<Figure size 432x288 with 2 Axes>"
            ]
          },
          "metadata": {
            "needs_background": "light"
          }
        }
      ]
    },
    {
      "cell_type": "code",
      "source": [
        "from sklearn.metrics import roc_curve\n",
        "\n",
        "# roc curve for models\n",
        "fpr1, tpr1, thresh1 = roc_curve(y_test, pred_proba[:,1], pos_label=1)\n",
        "# fpr2, tpr2, thresh2 = roc_curve(y_test, pred_prob2[:,1], pos_label=1)\n",
        "# \n",
        "# roc curve for tpr = fpr \n",
        "# random_probs = [0 for i in range(len(y_test))]\n",
        "# p_fpr, p_tpr, _ = roc_curve(y_test, random_probs, pos_label=1)"
      ],
      "metadata": {
        "id": "voVtETC1cg87"
      },
      "execution_count": null,
      "outputs": []
    },
    {
      "cell_type": "code",
      "source": [
        "import matplotlib.pyplot as plt\n",
        "# plt.style.use('seaborn')\n",
        "\n",
        "# plot roc curves\n",
        "plt.plot(fpr1, tpr1, linestyle='--',color='orange', label='Logistic Regression')\n",
        "# plt.plot(fpr2, tpr2, linestyle='--',color='green', label='KNN')\n",
        "# plt.plot(p_fpr, p_tpr, linestyle='--', color='blue')\n",
        "plt.plot([0,1],[0,1],linestyle='--', color='blue')\n",
        "# title\n",
        "plt.title('ROC curve for Classification')\n",
        "# x label\n",
        "plt.xlabel('False Positive Rate')\n",
        "# y label\n",
        "plt.ylabel('True Positive rate')\n",
        "\n",
        "plt.legend(loc='best')\n",
        "# plt.savefig('ROC',dpi=300)\n",
        "plt.show();"
      ],
      "metadata": {
        "colab": {
          "base_uri": "https://localhost:8080/",
          "height": 295
        },
        "id": "kVPdg1C2cbI9",
        "outputId": "4830c460-e6f5-4c84-bfab-64471215ddc7"
      },
      "execution_count": null,
      "outputs": [
        {
          "output_type": "display_data",
          "data": {
            "image/png": "[encoded data removed]",
            "text/plain": [
              "<Figure size 432x288 with 1 Axes>"
            ]
          },
          "metadata": {
            "needs_background": "light"
          }
        }
      ]
    },
    {
      "cell_type": "markdown",
      "source": [
        "### 6) Threshold(입계값) 변경하며 성능측정하기"
      ],
      "metadata": {
        "id": "y7W8Q8obY-RA"
      }
    },
    {
      "cell_type": "code",
      "source": [
        "thresholds = [0.3 , 0.33 ,0.36,0.39, 0.42 , 0.45 ,0.48, 0.50]\n",
        "# pred_proba = lr_clf.predict_proba(X_test)\n",
        "\n",
        "pred_proba_c1 = pred_proba[:,1].reshape(-1,1)"
      ],
      "metadata": {
        "id": "sxJ0gEcvXzPy"
      },
      "execution_count": null,
      "outputs": []
    },
    {
      "cell_type": "code",
      "source": [
        "from sklearn.preprocessing import Binarizer\n",
        "\n",
        "\n",
        "for custom_threshold in thresholds:\n",
        "  binarizer = Binarizer(threshold=custom_threshold).fit(pred_proba_c1) \n",
        "  custom_predict = binarizer.transform(pred_proba_c1)\n",
        "  print('Threshold:',custom_threshold)\n",
        "  accuracy = accuracy_score(y_test , custom_predict)\n",
        "  print(\"Accuracy: \",round(accuracy,3))\n",
        "  print(\" \")"
      ],
      "metadata": {
        "colab": {
          "base_uri": "https://localhost:8080/"
        },
        "id": "dIlQDaA-ZgtD",
        "outputId": "de1d8431-0a67-44ea-eeb4-bb2e20b20324"
      },
      "execution_count": null,
      "outputs": [
        {
          "output_type": "stream",
          "name": "stdout",
          "text": [
            "Threshold: 0.3\n",
            "Accuracy:  0.487\n",
            " \n",
            "Threshold: 0.33\n",
            "Accuracy:  0.487\n",
            " \n",
            "Threshold: 0.36\n",
            "Accuracy:  0.494\n",
            " \n",
            "Threshold: 0.39\n",
            "Accuracy:  0.526\n",
            " \n",
            "Threshold: 0.42\n",
            "Accuracy:  0.539\n",
            " \n",
            "Threshold: 0.45\n",
            "Accuracy:  0.552\n",
            " \n",
            "Threshold: 0.48\n",
            "Accuracy:  0.558\n",
            " \n",
            "Threshold: 0.5\n",
            "Accuracy:  0.565\n",
            " \n"
          ]
        }
      ]
    },
    {
      "cell_type": "markdown",
      "source": [
        "### 7) 교차검증\n",
        "\n",
        "일반적으로 회귀에는 기본 k-겹 교차검증을 사용하고, 분류에는 StratifiedKFold를 사용한다.\n",
        "데이터가 편항되어 단순 k-겹 교차검증을 사용하면 성능 평가가 잘 되지 않을 수 있기때문이다.\n",
        "\n",
        "<img src='https://jinnyjinny.github.io/assets/post_img/deep%20learning/2020-04-02-Kfold/main3.jpg'>\n",
        "<br>\n",
        "<!-- <center>leave-one-out</center>\n",
        "<center><img src='https://smlee729.github.io/img/2015-03-19-1-loocv/loocv1.png' width=70%></center> -->\n",
        "\n",
        "\n"
      ],
      "metadata": {
        "id": "YJzs4Eimozro"
      }
    },
    {
      "cell_type": "code",
      "source": [
        "# cross_validation \n",
        "from sklearn.model_selection import KFold, StratifiedKFold, LeaveOneOut\n",
        "\n",
        "kfold = KFold(n_splits=5)\n",
        "sfold = StratifiedKFold()\n",
        "# loo = LeaveOneOut()\n",
        "\n",
        "\n",
        "from sklearn.model_selection import cross_val_score\n",
        "\n",
        "lr_clf = LogisticRegression(max_iter=1000,)\n",
        "kfold_score = cross_val_score(lr_clf, X, y, cv=kfold)\n",
        "sfold_score = cross_val_score(lr_clf, X, y, cv=sfold)\n",
        "# loo_score = cross_val_score(lr_clf, X, y, cv=loo)\n",
        "\n",
        "print('Kfold 정확도: {:.2f} %'.format(kfold_score.mean()*100))\n",
        "print('StratifiedKFold 정확도: {:.2f}'.format(sfold_score.mean()))\n",
        "# print('LeaveOneOut 정확도: {:.2f}'.format(loo_score.mean()))"
      ],
      "metadata": {
        "colab": {
          "base_uri": "https://localhost:8080/"
        },
        "id": "M1CJWIcEeiD3",
        "outputId": "cb82cc66-ba0f-42de-ac0b-a8c158303aa1"
      },
      "execution_count": null,
      "outputs": [
        {
          "output_type": "stream",
          "name": "stdout",
          "text": [
            "Kfold 정확도: 77.09 %\n",
            "StratifiedKFold 정확도: 0.77\n",
            "LeaveOneOut 정확도: 0.78\n"
          ]
        }
      ]
    }
  ]
}